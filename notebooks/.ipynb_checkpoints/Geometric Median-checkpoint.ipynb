{
 "cells": [
  {
   "cell_type": "code",
   "execution_count": 1,
   "metadata": {},
   "outputs": [],
   "source": [
    "import torch\n",
    "import torch.nn as nn\n",
    "import torchvision\n",
    "import torch.nn.functional as F\n",
    "import torch.optim as optim\n",
    "from torchvision import datasets, transforms\n",
    "import pandas as pd\n",
    "from torch.utils.data import Dataset, DataLoader\n",
    "import os\n",
    "from PIL import Image\n",
    "import numpy as np\n",
    "import PIL"
   ]
  },
  {
   "cell_type": "code",
   "execution_count": 2,
   "metadata": {},
   "outputs": [],
   "source": [
    "class Net(nn.Module):\n",
    "    def __init__(self):\n",
    "        super(Net, self).__init__()\n",
    "        self.conv1 = nn.Conv2d(1, 20, 5, 1)\n",
    "        self.conv2 = nn.Conv2d(20, 50, 5, 1)\n",
    "        self.fc1 = nn.Linear(4*4*50, 500)\n",
    "        self.fc2 = nn.Linear(500, 10)\n",
    "\n",
    "    def forward(self, x):\n",
    "        x = F.relu(self.conv1(x))\n",
    "        x = F.max_pool2d(x, 2, 2)\n",
    "        x = F.relu(self.conv2(x))\n",
    "        x = F.max_pool2d(x, 2, 2)\n",
    "        x = x.view(-1, 4*4*50)\n",
    "        x = F.relu(self.fc1(x))\n",
    "        x = self.fc2(x)\n",
    "        return F.log_softmax(x, dim=1)"
   ]
  },
  {
   "cell_type": "code",
   "execution_count": 3,
   "metadata": {},
   "outputs": [],
   "source": [
    "def weights_to_array(model):\n",
    "    '''\n",
    "        input: pytorch model\n",
    "        output: array of tensors of model weights\n",
    "    '''\n",
    "    model_weights = []\n",
    "    for param in model.parameters():\n",
    "        model_weights.append(param) # check without .data\n",
    "    return model_weights"
   ]
  },
  {
   "cell_type": "code",
   "execution_count": 4,
   "metadata": {},
   "outputs": [],
   "source": [
    "def g(z, node_weights, node_samples, total_no_samples):\n",
    "    '''\n",
    "        Optimizer loss function for geometric median\n",
    "        Refer equation 3 in Krishna Pillutla et al., Robust Aggregation for Federated Learning\n",
    "        \n",
    "        input:  z - aggregator weights to minimize\n",
    "                node_weights - array of model weights from weights_to_array function\n",
    "                node_samples - array of sample counts from each node\n",
    "                total_no_samples - sum(node_samples)\n",
    "        output: weighted summation of euclidean norm with respect to the aggregator weights        \n",
    "    '''\n",
    "    summation = 0.0\n",
    "    for layer_idx in range(len(node_weights[0])):\n",
    "        temp = torch.zeros(node_weights[0][layer_idx].shape)\n",
    "        for node_idx in range(len(node_weights)):\n",
    "            euclidean_norm = (z[layer_idx] - node_weights[node_idx][layer_idx])**2\n",
    "            weight_alpha = node_samples[node_idx]/total_no_samples\n",
    "            temp = temp + (weight_alpha * euclidean_norm)\n",
    "        summation = sum(temp)\n",
    "    return summation\n",
    "\n",
    "# g(weights_to_array(agg_model), [weights_to_array(model1), weights_to_array(model2)], [5, 5], 10)"
   ]
  },
  {
   "cell_type": "code",
   "execution_count": 5,
   "metadata": {},
   "outputs": [],
   "source": [
    "model1 = Net()\n",
    "model2 = Net()\n",
    "agg_model = Net()"
   ]
  },
  {
   "cell_type": "code",
   "execution_count": 7,
   "metadata": {},
   "outputs": [],
   "source": [
    "def optimizeGM(agg_model, args):\n",
    "    optimizer = optim.Adam(agg_model.parameters(), lr=0.001)\n",
    "    for _ in range(iterations):\n",
    "        optimizer.zero_grad()\n",
    "        loss = g(weights_to_array(agg_model), [weights_to_array(model1), weights_to_array(model1)], [5, 5], 10)\n",
    "        print(loss)\n",
    "        loss.backward()\n",
    "        optimizer.step()\n",
    "    return agg_model"
   ]
  },
  {
   "cell_type": "code",
   "execution_count": 8,
   "metadata": {
    "scrolled": true
   },
   "outputs": [
    {
     "name": "stdout",
     "output_type": "stream",
     "text": [
      "tensor(0.0154, grad_fn=<AddBackward0>)\n",
      "tensor(0.0154, grad_fn=<AddBackward0>)\n",
      "tensor(0.0154, grad_fn=<AddBackward0>)\n",
      "tensor(0.0154, grad_fn=<AddBackward0>)\n",
      "tensor(0.0154, grad_fn=<AddBackward0>)\n",
      "tensor(0.0154, grad_fn=<AddBackward0>)\n",
      "tensor(0.0154, grad_fn=<AddBackward0>)\n",
      "tensor(0.0154, grad_fn=<AddBackward0>)\n",
      "tensor(0.0154, grad_fn=<AddBackward0>)\n",
      "tensor(0.0154, grad_fn=<AddBackward0>)\n"
     ]
    },
    {
     "ename": "NameError",
     "evalue": "name 'm1' is not defined",
     "output_type": "error",
     "traceback": [
      "\u001b[0;31m---------------------------------------------------------------------------\u001b[0m",
      "\u001b[0;31mNameError\u001b[0m                                 Traceback (most recent call last)",
      "\u001b[0;32m<ipython-input-8-bdfba628c5be>\u001b[0m in \u001b[0;36m<module>\u001b[0;34m\u001b[0m\n\u001b[1;32m     15\u001b[0m     \u001b[0mb\u001b[0m\u001b[0;34m.\u001b[0m\u001b[0mappend\u001b[0m\u001b[0;34m(\u001b[0m\u001b[0mi\u001b[0m\u001b[0;34m.\u001b[0m\u001b[0mclone\u001b[0m\u001b[0;34m(\u001b[0m\u001b[0;34m)\u001b[0m\u001b[0;34m)\u001b[0m\u001b[0;34m\u001b[0m\u001b[0;34m\u001b[0m\u001b[0m\n\u001b[1;32m     16\u001b[0m \u001b[0;32mfor\u001b[0m \u001b[0mi\u001b[0m \u001b[0;32min\u001b[0m \u001b[0mrange\u001b[0m\u001b[0;34m(\u001b[0m\u001b[0mlen\u001b[0m\u001b[0;34m(\u001b[0m\u001b[0ma\u001b[0m\u001b[0;34m)\u001b[0m\u001b[0;34m)\u001b[0m\u001b[0;34m:\u001b[0m\u001b[0;34m\u001b[0m\u001b[0;34m\u001b[0m\u001b[0m\n\u001b[0;32m---> 17\u001b[0;31m     \u001b[0mprint\u001b[0m\u001b[0;34m(\u001b[0m\u001b[0mtorch\u001b[0m\u001b[0;34m.\u001b[0m\u001b[0mequal\u001b[0m\u001b[0;34m(\u001b[0m\u001b[0ma\u001b[0m\u001b[0;34m[\u001b[0m\u001b[0mi\u001b[0m\u001b[0;34m]\u001b[0m\u001b[0;34m.\u001b[0m\u001b[0mdata\u001b[0m\u001b[0;34m,\u001b[0m \u001b[0mm1\u001b[0m\u001b[0;34m[\u001b[0m\u001b[0mi\u001b[0m\u001b[0;34m]\u001b[0m\u001b[0;34m.\u001b[0m\u001b[0mdata\u001b[0m\u001b[0;34m)\u001b[0m\u001b[0;34m)\u001b[0m\u001b[0;34m\u001b[0m\u001b[0;34m\u001b[0m\u001b[0m\n\u001b[0m",
      "\u001b[0;31mNameError\u001b[0m: name 'm1' is not defined"
     ]
    }
   ],
   "source": [
    "iterations = 100\n",
    "optimizer = optim.Adam(agg_model.parameters(), lr=0.001)\n",
    "a = []\n",
    "for i in agg_model.parameters():\n",
    "    i.requires_grad = False\n",
    "    a.append(i.clone())\n",
    "for _ in range(iterations):\n",
    "    optimizer.zero_grad()\n",
    "    loss = g(weights_to_array(agg_model), [weights_to_array(model1), weights_to_array(model1)], [5, 5], 10)\n",
    "    print(loss)\n",
    "    loss.backward()\n",
    "    optimizer.step()\n",
    "b = []\n",
    "for i in agg_model.parameters():\n",
    "    b.append(i.clone())\n",
    "for i in range(len(a)):\n",
    "    print(torch.equal(a[i].data, b[i].data))\n"
   ]
  },
  {
   "cell_type": "code",
   "execution_count": null,
   "metadata": {},
   "outputs": [],
   "source": [
    "def Geometric_Median(model_data):\n",
    "    '''\n",
    "        input: array of tuples containing model \n",
    "        and the number of samples from each respective node\n",
    "        output: geometric median aggregated model\n",
    "    '''\n",
    "    total_no_samples = 0\n",
    "    \n",
    "    # creates an array of weights and sample counts\n",
    "    # shape -> no_models*no_layers*dim_of_layer\n",
    "    node_weights = []\n",
    "    node_samples = []\n",
    "    for model,no_samples in model_data:\n",
    "        node_weights.append(weights_to_array(model))\n",
    "        node_samples.append(no_samples)\n",
    "    # calculates the total number of samples\n",
    "        total_no_samples += no_samples\n",
    "    \n",
    "    aggregated_weights = []\n",
    "    for layer_idx in range(len(node_weights[0])):\n",
    "        temp = torch.zeros(node_weights[0][layer_idx].shape)\n",
    "        for node_idx in range(len(node_weights)):\n",
    "            temp+= (node_samples[node_idx]/total_no_samples)*node_weights[node_idx][layer_idx]\n",
    "        aggregated_weights.append(temp)\n",
    "    agg_model = Net()\n",
    "    for idx, param in enumerate(agg_model.parameters()):\n",
    "        param.data = aggregated_weights[idx]\n",
    "    return agg_model"
   ]
  },
  {
   "cell_type": "code",
   "execution_count": 30,
   "metadata": {},
   "outputs": [],
   "source": [
    "t = torch.Tensor([1,2,3])"
   ]
  },
  {
   "cell_type": "code",
   "execution_count": 32,
   "metadata": {},
   "outputs": [
    {
     "data": {
      "text/plain": [
       "tensor(6.)"
      ]
     },
     "execution_count": 32,
     "metadata": {},
     "output_type": "execute_result"
    }
   ],
   "source": [
    "sum(t)"
   ]
  },
  {
   "cell_type": "code",
   "execution_count": 62,
   "metadata": {},
   "outputs": [
    {
     "data": {
      "text/plain": [
       "tensor([[[[-1.0899e-01,  7.8112e-02, -1.5801e-01, -5.7579e-02, -4.6350e-02],\n",
       "          [-1.7910e-01,  6.2346e-02,  5.7295e-02,  1.4931e-01,  1.9725e-01],\n",
       "          [-9.0151e-02,  1.6196e-01,  1.7399e-01, -3.5938e-02,  1.7598e-01],\n",
       "          [-1.6366e-01,  2.5078e-02, -1.4071e-02,  9.9691e-02,  1.8168e-01],\n",
       "          [-7.2353e-02,  9.1976e-02,  1.5373e-01,  1.1637e-01,  7.4403e-02]]],\n",
       "\n",
       "\n",
       "        [[[ 1.6584e-01,  1.4762e-01,  1.5445e-01, -5.7531e-02,  5.0265e-02],\n",
       "          [ 9.9836e-02, -1.1141e-01, -1.6601e-01,  1.3605e-01,  7.2098e-02],\n",
       "          [ 1.2776e-01, -1.1669e-01, -8.9104e-02, -4.6635e-02, -1.8434e-01],\n",
       "          [ 7.0214e-02, -1.7059e-01,  5.3629e-02, -1.1260e-01, -7.8758e-02],\n",
       "          [ 1.4031e-01, -1.6600e-01, -1.4960e-01, -8.4224e-02,  4.0627e-02]]],\n",
       "\n",
       "\n",
       "        [[[-1.7179e-01, -1.4705e-01, -4.2055e-02,  1.1640e-01,  8.8323e-02],\n",
       "          [ 1.4333e-01,  1.0630e-01,  1.6685e-01, -3.8128e-02, -1.4703e-01],\n",
       "          [ 2.2049e-02,  1.4150e-01,  1.9070e-01, -1.7548e-01,  1.2762e-02],\n",
       "          [-1.7594e-01, -1.0162e-01,  8.2405e-02, -1.9042e-01,  8.3470e-02],\n",
       "          [-1.6613e-01,  1.2526e-01,  3.2146e-02,  1.8439e-02, -1.0916e-01]]],\n",
       "\n",
       "\n",
       "        [[[-1.3662e-01,  8.1044e-02,  1.1211e-02,  4.9538e-02,  3.5481e-02],\n",
       "          [-2.7193e-02, -5.8693e-02, -9.9141e-02, -3.2414e-02,  1.0656e-01],\n",
       "          [ 6.9440e-02,  7.2207e-02, -5.2721e-02,  1.4951e-01,  1.7603e-01],\n",
       "          [ 1.2687e-01, -8.4912e-02,  1.0890e-01, -1.2614e-01,  1.2754e-01],\n",
       "          [-1.3548e-01,  1.6252e-01,  7.0844e-02, -1.3293e-01,  1.0055e-01]]],\n",
       "\n",
       "\n",
       "        [[[ 2.1398e-02,  9.6305e-02, -1.4760e-01, -1.8515e-02, -1.5961e-01],\n",
       "          [-1.3807e-01, -1.7280e-01, -3.2681e-02, -3.3277e-02,  6.3005e-02],\n",
       "          [-9.2372e-02, -6.1254e-02,  1.3292e-02,  1.2252e-01,  2.8477e-02],\n",
       "          [ 1.2135e-01, -7.6242e-02,  3.3414e-02, -1.1909e-01, -8.9186e-02],\n",
       "          [-1.5776e-01, -1.1110e-01, -9.5901e-02, -1.7243e-01, -1.2993e-01]]],\n",
       "\n",
       "\n",
       "        [[[-1.6886e-01, -3.3706e-05,  5.6110e-02, -1.9004e-01, -1.9082e-01],\n",
       "          [ 1.5343e-01, -6.3118e-02,  1.3817e-01,  1.9293e-01, -8.5402e-02],\n",
       "          [-1.3484e-01, -4.9184e-02, -7.0050e-02, -7.8789e-02, -7.7495e-02],\n",
       "          [-1.0753e-01, -5.7568e-02,  5.0161e-02, -8.6292e-02,  1.9501e-01],\n",
       "          [-2.3380e-02,  1.8480e-01, -9.1184e-02, -1.8126e-01,  1.7278e-01]]],\n",
       "\n",
       "\n",
       "        [[[ 1.4763e-01,  1.0773e-01,  7.5094e-02,  1.2027e-01,  1.3397e-01],\n",
       "          [ 5.4783e-02,  7.8766e-02,  1.4748e-03,  1.8639e-01,  4.5972e-03],\n",
       "          [-8.3326e-02, -6.9085e-02, -1.2303e-01, -1.9589e-01, -1.5570e-01],\n",
       "          [ 3.1051e-02, -9.3787e-02, -4.8942e-03,  1.1779e-01,  1.8632e-01],\n",
       "          [ 1.8316e-01,  3.8939e-02,  1.0423e-01, -1.8055e-01, -7.8039e-02]]],\n",
       "\n",
       "\n",
       "        [[[-5.0958e-02, -1.7007e-01,  2.8583e-03,  1.9521e-01, -1.9136e-01],\n",
       "          [ 9.5965e-02,  6.0351e-03,  8.6956e-02,  1.2451e-01, -3.0153e-02],\n",
       "          [ 1.4643e-01,  1.0952e-01, -3.8430e-02,  1.1884e-02,  1.2114e-01],\n",
       "          [ 2.0092e-03,  1.4631e-01,  5.8609e-03, -6.2266e-02,  1.4179e-01],\n",
       "          [-3.3857e-02,  9.0055e-02, -3.9092e-03,  1.3110e-01, -7.1845e-02]]],\n",
       "\n",
       "\n",
       "        [[[ 1.3576e-01,  1.2668e-01, -1.3477e-01, -7.0549e-02,  1.0979e-01],\n",
       "          [-1.7066e-01, -6.1560e-03, -8.2675e-02, -7.4005e-02,  9.4435e-02],\n",
       "          [ 1.0295e-01,  1.3797e-02, -5.8349e-02, -1.5603e-01, -1.9919e-01],\n",
       "          [-8.9560e-02,  1.3640e-01, -1.8153e-02, -1.5237e-02,  9.4727e-02],\n",
       "          [ 4.5954e-02,  1.6835e-01,  1.1846e-02,  1.1808e-01,  1.9538e-01]]],\n",
       "\n",
       "\n",
       "        [[[ 8.1360e-04, -1.0362e-01,  4.9753e-02, -1.3887e-01,  1.2938e-01],\n",
       "          [-1.4351e-01, -6.2234e-03,  1.9951e-01, -1.4358e-01, -1.6242e-01],\n",
       "          [-7.4816e-03,  2.2541e-02,  1.7964e-01, -8.9404e-02, -4.3911e-03],\n",
       "          [-5.6808e-02, -1.7260e-01,  1.6795e-01,  1.2581e-01,  7.9864e-02],\n",
       "          [ 1.5456e-01,  2.0495e-02,  1.0853e-01,  7.3947e-02, -1.4140e-01]]],\n",
       "\n",
       "\n",
       "        [[[ 7.9567e-02, -1.9638e-01,  1.3157e-01,  8.7426e-02,  6.1650e-02],\n",
       "          [-9.3264e-02, -8.3832e-02,  6.0463e-02, -1.0600e-01, -7.6777e-02],\n",
       "          [ 5.3669e-02,  1.0609e-01,  9.7732e-03, -1.1190e-01, -2.4090e-02],\n",
       "          [-1.9394e-01, -2.2178e-02,  8.0954e-02,  1.7653e-01, -4.0768e-02],\n",
       "          [ 3.1262e-02, -3.8376e-02, -8.1650e-02,  1.9057e-01,  1.2641e-01]]],\n",
       "\n",
       "\n",
       "        [[[ 3.0443e-02,  1.3529e-01, -1.6911e-01,  2.8096e-02,  1.3541e-01],\n",
       "          [ 9.7002e-02, -1.6261e-01, -1.2052e-01, -1.9288e-01,  9.2420e-02],\n",
       "          [-1.0972e-01, -1.3001e-02, -3.6837e-02, -5.1613e-03,  5.1649e-02],\n",
       "          [ 7.1417e-02, -1.9733e-01, -1.3502e-01, -8.3633e-02, -1.0134e-01],\n",
       "          [ 1.0792e-01,  1.7001e-01, -4.4300e-02,  1.1034e-01,  2.5250e-02]]],\n",
       "\n",
       "\n",
       "        [[[-1.2059e-01, -1.3166e-01, -8.6147e-02, -1.0529e-01, -1.1346e-01],\n",
       "          [-1.9831e-01,  1.5354e-01,  1.8226e-01, -1.7259e-01, -9.6460e-02],\n",
       "          [-1.9624e-01,  2.2478e-02, -2.1449e-02, -3.0203e-02,  3.1655e-02],\n",
       "          [-7.8235e-02, -1.2712e-01,  9.5501e-02,  6.4350e-02,  1.6903e-01],\n",
       "          [ 1.3847e-01,  1.6308e-01, -1.2523e-01, -3.5272e-02, -3.4156e-02]]],\n",
       "\n",
       "\n",
       "        [[[-6.7604e-02,  1.0296e-01, -1.2412e-01, -1.9396e-01,  4.7054e-02],\n",
       "          [ 1.3828e-01,  1.9737e-01,  9.9809e-02, -1.7607e-01,  5.4131e-03],\n",
       "          [ 1.9722e-01,  1.3024e-01, -1.3373e-01,  7.6293e-02, -1.0557e-01],\n",
       "          [-1.9815e-03,  2.4184e-02, -1.4670e-01, -4.3444e-02,  1.3763e-01],\n",
       "          [-1.2301e-01,  2.4338e-03, -1.8403e-02,  4.2130e-02, -9.2611e-02]]],\n",
       "\n",
       "\n",
       "        [[[ 1.8282e-01,  1.1798e-01,  1.0823e-01,  1.0394e-03,  7.8573e-02],\n",
       "          [ 8.3759e-02,  1.4257e-01,  1.3323e-01, -1.6452e-01, -7.0152e-02],\n",
       "          [-2.1812e-02, -1.1711e-01, -1.7419e-01, -7.1083e-02,  9.6933e-02],\n",
       "          [ 6.8637e-02,  1.8292e-01,  6.4491e-02,  9.3829e-02,  1.6068e-01],\n",
       "          [-1.7744e-01,  6.7498e-02,  5.7019e-02, -4.3217e-02,  3.0621e-02]]],\n",
       "\n",
       "\n",
       "        [[[ 1.1724e-01, -8.9324e-02, -7.5646e-02, -1.1359e-01,  3.6133e-02],\n",
       "          [ 4.7511e-02,  4.1238e-02, -1.5092e-01, -9.6117e-02, -1.0996e-01],\n",
       "          [-1.1955e-01, -4.4147e-02, -8.8379e-02, -4.2293e-02, -1.8677e-01],\n",
       "          [-5.3797e-02,  1.5489e-01, -1.1890e-02, -1.4331e-01,  5.6984e-02],\n",
       "          [ 3.2891e-02,  1.5995e-02, -8.4397e-02, -1.2347e-01,  1.8386e-01]]],\n",
       "\n",
       "\n",
       "        [[[ 1.8643e-03,  1.5699e-01,  1.2296e-02,  2.4770e-02,  1.3396e-01],\n",
       "          [-1.5379e-01,  1.2139e-01, -1.3058e-01, -6.6666e-02, -4.9454e-02],\n",
       "          [-1.3080e-01, -1.5370e-01, -2.7406e-02, -8.6506e-02,  5.4570e-03],\n",
       "          [-1.8776e-02,  7.6143e-02, -1.0163e-01,  8.9349e-02,  5.4885e-02],\n",
       "          [-2.2235e-02, -4.0074e-02,  1.1166e-02, -1.5040e-01,  5.9524e-02]]],\n",
       "\n",
       "\n",
       "        [[[-1.8665e-01, -6.7319e-03, -1.3776e-01, -2.9314e-02, -5.3302e-02],\n",
       "          [-1.6111e-01, -8.2829e-02,  1.8660e-01,  5.9075e-02,  1.7600e-01],\n",
       "          [ 9.8138e-02, -7.6977e-02, -1.7247e-01, -2.1792e-02,  7.3555e-02],\n",
       "          [-9.7672e-02, -8.0128e-02, -6.3919e-02,  7.9859e-02,  1.2086e-01],\n",
       "          [-1.4883e-01, -8.4885e-02,  1.6047e-01, -1.3591e-01,  1.9399e-01]]],\n",
       "\n",
       "\n",
       "        [[[ 1.0838e-01,  3.7645e-02, -8.2363e-02,  3.5930e-02,  4.6506e-02],\n",
       "          [-8.8420e-02,  7.3465e-02,  3.6682e-02, -1.9613e-01,  1.5348e-01],\n",
       "          [-8.7098e-03, -2.5880e-02, -2.0840e-02,  3.8198e-02, -1.5126e-02],\n",
       "          [ 3.8024e-02,  1.9076e-01,  1.8037e-01,  1.3885e-01,  1.7964e-01],\n",
       "          [-9.1553e-02, -1.8839e-01, -1.4345e-02,  1.4387e-01,  1.8385e-01]]],\n",
       "\n",
       "\n",
       "        [[[ 9.8632e-02, -2.3282e-02,  2.5680e-02,  1.4300e-01, -4.0636e-02],\n",
       "          [ 2.4180e-02,  9.9404e-02, -1.5370e-01, -1.7803e-01,  1.5193e-02],\n",
       "          [-1.2569e-01,  1.2914e-01,  8.3150e-02, -1.5119e-01, -7.6353e-02],\n",
       "          [-1.5257e-01, -2.2379e-02,  7.0625e-02, -1.6368e-01, -1.7724e-01],\n",
       "          [-3.3663e-02, -2.8574e-02,  1.9468e-01,  5.8429e-03,  6.2713e-02]]]])"
      ]
     },
     "execution_count": 62,
     "metadata": {},
     "output_type": "execute_result"
    }
   ],
   "source": [
    "list(model1.parameters())[0].data"
   ]
  },
  {
   "cell_type": "code",
   "execution_count": 26,
   "metadata": {},
   "outputs": [],
   "source": [
    "list(agg_model.parameters())[0].requires_grad = False"
   ]
  },
  {
   "cell_type": "code",
   "execution_count": null,
   "metadata": {},
   "outputs": [],
   "source": []
  }
 ],
 "metadata": {
  "kernelspec": {
   "display_name": "Python 3",
   "language": "python",
   "name": "python3"
  },
  "language_info": {
   "codemirror_mode": {
    "name": "ipython",
    "version": 3
   },
   "file_extension": ".py",
   "mimetype": "text/x-python",
   "name": "python",
   "nbconvert_exporter": "python",
   "pygments_lexer": "ipython3",
   "version": "3.7.9"
  }
 },
 "nbformat": 4,
 "nbformat_minor": 4
}
