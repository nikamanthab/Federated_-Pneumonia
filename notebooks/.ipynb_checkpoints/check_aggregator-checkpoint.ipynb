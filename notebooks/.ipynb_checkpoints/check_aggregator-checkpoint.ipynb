{
 "cells": [
  {
   "cell_type": "code",
   "execution_count": 7,
   "metadata": {},
   "outputs": [],
   "source": [
    "import torch\n",
    "import torch.optim as optim\n",
    "import numpy as np\n",
    "import random\n",
    "from torch import nn\n",
    "import torchvision\n",
    "# from modelloader import getModelArchitecture"
   ]
  },
  {
   "cell_type": "code",
   "execution_count": 4,
   "metadata": {},
   "outputs": [],
   "source": [
    "class ResNeXt50(nn.Module):\n",
    "    def __init__(self):\n",
    "        super(ResNeXt50, self).__init__()\n",
    "        self.model = torchvision.models.resnext50_32x4d(pretrained=False, progress=True)\n",
    "        self.model.conv1 = nn.Conv2d(1, 64, kernel_size=(7, 7), stride=(2, 2), padding=(3, 3), bias=False)\n",
    "        self.fc1 = nn.Linear(1000, 2)\n",
    "\n",
    "    def forward(self, x):\n",
    "        x = self.model(x)\n",
    "        x = self.fc1(x)\n",
    "        return F.log_softmax(x, dim=1)"
   ]
  },
  {
   "cell_type": "code",
   "execution_count": 56,
   "metadata": {},
   "outputs": [
    {
     "ename": "AttributeError",
     "evalue": "'list' object has no attribute 'dtype'",
     "output_type": "error",
     "traceback": [
      "\u001b[0;31m---------------------------------------------------------------------------\u001b[0m",
      "\u001b[0;31mAttributeError\u001b[0m                            Traceback (most recent call last)",
      "\u001b[0;32m<ipython-input-56-45755606a16e>\u001b[0m in \u001b[0;36m<module>\u001b[0;34m\u001b[0m\n\u001b[1;32m      1\u001b[0m \u001b[0marr\u001b[0m \u001b[0;34m=\u001b[0m \u001b[0;34m[\u001b[0m\u001b[0;34m]\u001b[0m\u001b[0;34m\u001b[0m\u001b[0;34m\u001b[0m\u001b[0m\n\u001b[0;32m----> 2\u001b[0;31m \u001b[0marr\u001b[0m\u001b[0;34m.\u001b[0m\u001b[0mdtype\u001b[0m\u001b[0;34m\u001b[0m\u001b[0;34m\u001b[0m\u001b[0m\n\u001b[0m",
      "\u001b[0;31mAttributeError\u001b[0m: 'list' object has no attribute 'dtype'"
     ]
    }
   ],
   "source": [
    "arr = []\n",
    "arr.dtype"
   ]
  },
  {
   "cell_type": "code",
   "execution_count": 57,
   "metadata": {},
   "outputs": [],
   "source": [
    "def weights_to_array(model):\n",
    "    '''\n",
    "        input: pytorch model\n",
    "        output: array of tensors of model weights\n",
    "    '''\n",
    "    model_weights = []\n",
    "    for param in model.parameters():\n",
    "        model_weights.append(param) # check without .data\n",
    "    print(model_weights.dtype)\n",
    "    return model_weights\n",
    "\n",
    "def fed_avg_aggregator(model_data, args):\n",
    "    '''\n",
    "        input: array of tuples containing model \n",
    "        and the number of samples from each respective node\n",
    "        output: fed_avg aggregated model\n",
    "    '''\n",
    "    total_no_samples = 0\n",
    "    \n",
    "    # creates an array of weights and sample counts\n",
    "    # shape -> no_models*no_layers*dim_of_layer\n",
    "    node_weights = []\n",
    "    node_samples = []\n",
    "    for model,no_samples in model_data:\n",
    "        node_weights.append(weights_to_array(model))\n",
    "        node_samples.append(no_samples)\n",
    "    # calculates the total number of samples\n",
    "        total_no_samples += no_samples\n",
    "    \n",
    "    aggregated_weights = []\n",
    "    for layer_idx in range(len(node_weights[0])):\n",
    "        temp = torch.zeros(node_weights[0][layer_idx].shape).to(args['device'])\n",
    "        for node_idx in range(len(node_weights)):\n",
    "            temp+= (node_samples[node_idx]/total_no_samples)*node_weights[node_idx][layer_idx]\n",
    "        aggregated_weights.append(temp)\n",
    "    agg_model = ResNeXt50()\n",
    "    for idx, param in enumerate(agg_model.parameters()):\n",
    "        param.data = aggregated_weights[idx]\n",
    "    return agg_model"
   ]
  },
  {
   "cell_type": "code",
   "execution_count": 39,
   "metadata": {
    "scrolled": true
   },
   "outputs": [
    {
     "name": "stdout",
     "output_type": "stream",
     "text": [
      "Parameter containing:\n",
      "tensor([[[[-0.0775, -0.1326, -0.0050,  ..., -0.0147, -0.0607,  0.1000],\n",
      "          [ 0.0134, -0.0406, -0.0368,  ..., -0.1285,  0.0535, -0.1158],\n",
      "          [ 0.0392,  0.1216, -0.1144,  ...,  0.1241,  0.0372,  0.1161],\n",
      "          ...,\n",
      "          [-0.1328,  0.0745, -0.0527,  ...,  0.1361,  0.1040, -0.0266],\n",
      "          [ 0.0925, -0.0415,  0.0216,  ...,  0.0464,  0.0961,  0.0123],\n",
      "          [ 0.1095, -0.0960, -0.1206,  ..., -0.0126,  0.1213,  0.1045]]],\n",
      "\n",
      "\n",
      "        [[[ 0.0866,  0.0525, -0.0226,  ...,  0.0419,  0.0064,  0.0043],\n",
      "          [-0.1383,  0.0539,  0.0070,  ...,  0.0933, -0.1100,  0.0262],\n",
      "          [-0.0181,  0.0502,  0.0764,  ...,  0.0487,  0.0640, -0.0126],\n",
      "          ...,\n",
      "          [-0.0339,  0.0405,  0.0278,  ...,  0.1283,  0.0448,  0.1132],\n",
      "          [-0.1087, -0.0246, -0.0347,  ...,  0.0662,  0.0752,  0.1366],\n",
      "          [ 0.1417,  0.0640,  0.0855,  ..., -0.0833,  0.0189,  0.0540]]],\n",
      "\n",
      "\n",
      "        [[[-0.0901, -0.0749,  0.1090,  ...,  0.0475, -0.0979,  0.1015],\n",
      "          [ 0.1306, -0.0546, -0.1025,  ...,  0.0844, -0.0595,  0.0402],\n",
      "          [-0.1178, -0.0529, -0.0377,  ...,  0.1084,  0.0032,  0.0895],\n",
      "          ...,\n",
      "          [-0.0177, -0.0122, -0.0357,  ...,  0.1182, -0.0090, -0.0760],\n",
      "          [-0.0586, -0.0628,  0.0625,  ..., -0.0787,  0.0765,  0.0481],\n",
      "          [-0.1343, -0.0700,  0.0469,  ..., -0.0146,  0.1242, -0.0947]]],\n",
      "\n",
      "\n",
      "        ...,\n",
      "\n",
      "\n",
      "        [[[-0.1400,  0.0915,  0.0388,  ..., -0.1125, -0.0772, -0.0525],\n",
      "          [-0.1268, -0.0940, -0.0977,  ...,  0.0235,  0.0056,  0.1166],\n",
      "          [ 0.1277, -0.1283, -0.0730,  ...,  0.0664,  0.0411,  0.0428],\n",
      "          ...,\n",
      "          [-0.0611, -0.1055, -0.0408,  ..., -0.0310, -0.0199, -0.0070],\n",
      "          [-0.0272, -0.0934, -0.0764,  ..., -0.0822,  0.0956, -0.1208],\n",
      "          [ 0.1151,  0.1192, -0.0831,  ...,  0.0898, -0.0088, -0.0180]]],\n",
      "\n",
      "\n",
      "        [[[ 0.0489, -0.1379,  0.1028,  ...,  0.0285,  0.0947, -0.0198],\n",
      "          [ 0.1094,  0.1039,  0.0128,  ..., -0.0548, -0.0061, -0.0395],\n",
      "          [-0.1405, -0.0512,  0.0885,  ...,  0.0153,  0.1339,  0.0553],\n",
      "          ...,\n",
      "          [-0.0151,  0.1058,  0.0039,  ...,  0.0697,  0.0610, -0.0613],\n",
      "          [ 0.0508,  0.0438, -0.0428,  ..., -0.0709, -0.0728,  0.1288],\n",
      "          [ 0.0330,  0.0795, -0.0062,  ...,  0.0831,  0.1221,  0.0722]]],\n",
      "\n",
      "\n",
      "        [[[ 0.0675, -0.1178, -0.0610,  ...,  0.0820, -0.0280, -0.0507],\n",
      "          [ 0.0515, -0.0612, -0.0231,  ...,  0.0489, -0.1199,  0.0462],\n",
      "          [-0.0258, -0.0159,  0.0473,  ...,  0.1258,  0.1107, -0.0986],\n",
      "          ...,\n",
      "          [ 0.1116,  0.0224,  0.0632,  ..., -0.0851,  0.1172, -0.0874],\n",
      "          [ 0.0512, -0.0377,  0.1195,  ..., -0.1239,  0.0898,  0.0364],\n",
      "          [-0.0003, -0.0714,  0.0487,  ...,  0.0501,  0.0192, -0.0259]]]],\n",
      "       requires_grad=True)\n"
     ]
    }
   ],
   "source": [
    "for i in model.parameters():\n",
    "    print(i)\n",
    "    break"
   ]
  },
  {
   "cell_type": "code",
   "execution_count": 42,
   "metadata": {},
   "outputs": [
    {
     "name": "stdout",
     "output_type": "stream",
     "text": [
      "torch.float32\n"
     ]
    }
   ],
   "source": [
    "count=0\n",
    "for i in model.parameters():\n",
    "    print(i.dtype)\n",
    "    break"
   ]
  },
  {
   "cell_type": "code",
   "execution_count": 37,
   "metadata": {},
   "outputs": [
    {
     "name": "stdout",
     "output_type": "stream",
     "text": [
      "163\n"
     ]
    }
   ],
   "source": [
    "model = ResNeXt50()\n",
    "count=0\n",
    "for i in model.parameters():\n",
    "    count+=1\n",
    "print(count)"
   ]
  },
  {
   "cell_type": "code",
   "execution_count": 58,
   "metadata": {},
   "outputs": [
    {
     "ename": "TypeError",
     "evalue": "array() missing required argument 'object' (pos 1)",
     "output_type": "error",
     "traceback": [
      "\u001b[0;31m---------------------------------------------------------------------------\u001b[0m",
      "\u001b[0;31mTypeError\u001b[0m                                 Traceback (most recent call last)",
      "\u001b[0;32m<ipython-input-58-a353c3040970>\u001b[0m in \u001b[0;36m<module>\u001b[0;34m\u001b[0m\n\u001b[0;32m----> 1\u001b[0;31m \u001b[0magg_mo\u001b[0m \u001b[0;34m=\u001b[0m \u001b[0mfed_avg_aggregator\u001b[0m\u001b[0;34m(\u001b[0m\u001b[0;34m[\u001b[0m\u001b[0;34m(\u001b[0m\u001b[0mmodel\u001b[0m\u001b[0;34m,\u001b[0m \u001b[0;36m10\u001b[0m\u001b[0;34m)\u001b[0m\u001b[0;34m]\u001b[0m\u001b[0;34m,\u001b[0m \u001b[0;34m{\u001b[0m\u001b[0;34m\"device\"\u001b[0m\u001b[0;34m:\u001b[0m\u001b[0;34m\"cpu\"\u001b[0m\u001b[0;34m}\u001b[0m\u001b[0;34m)\u001b[0m\u001b[0;34m\u001b[0m\u001b[0;34m\u001b[0m\u001b[0m\n\u001b[0m",
      "\u001b[0;32m<ipython-input-57-50f469dc2952>\u001b[0m in \u001b[0;36mfed_avg_aggregator\u001b[0;34m(model_data, args)\u001b[0m\n\u001b[1;32m     23\u001b[0m     \u001b[0mnode_samples\u001b[0m \u001b[0;34m=\u001b[0m \u001b[0;34m[\u001b[0m\u001b[0;34m]\u001b[0m\u001b[0;34m\u001b[0m\u001b[0;34m\u001b[0m\u001b[0m\n\u001b[1;32m     24\u001b[0m     \u001b[0;32mfor\u001b[0m \u001b[0mmodel\u001b[0m\u001b[0;34m,\u001b[0m\u001b[0mno_samples\u001b[0m \u001b[0;32min\u001b[0m \u001b[0mmodel_data\u001b[0m\u001b[0;34m:\u001b[0m\u001b[0;34m\u001b[0m\u001b[0;34m\u001b[0m\u001b[0m\n\u001b[0;32m---> 25\u001b[0;31m         \u001b[0mnode_weights\u001b[0m\u001b[0;34m.\u001b[0m\u001b[0mappend\u001b[0m\u001b[0;34m(\u001b[0m\u001b[0mweights_to_array\u001b[0m\u001b[0;34m(\u001b[0m\u001b[0mmodel\u001b[0m\u001b[0;34m)\u001b[0m\u001b[0;34m)\u001b[0m\u001b[0;34m\u001b[0m\u001b[0;34m\u001b[0m\u001b[0m\n\u001b[0m\u001b[1;32m     26\u001b[0m         \u001b[0mnode_samples\u001b[0m\u001b[0;34m.\u001b[0m\u001b[0mappend\u001b[0m\u001b[0;34m(\u001b[0m\u001b[0mno_samples\u001b[0m\u001b[0;34m)\u001b[0m\u001b[0;34m\u001b[0m\u001b[0;34m\u001b[0m\u001b[0m\n\u001b[1;32m     27\u001b[0m     \u001b[0;31m# calculates the total number of samples\u001b[0m\u001b[0;34m\u001b[0m\u001b[0;34m\u001b[0m\u001b[0;34m\u001b[0m\u001b[0m\n",
      "\u001b[0;32m<ipython-input-57-50f469dc2952>\u001b[0m in \u001b[0;36mweights_to_array\u001b[0;34m(model)\u001b[0m\n\u001b[1;32m      4\u001b[0m         \u001b[0moutput\u001b[0m\u001b[0;34m:\u001b[0m \u001b[0marray\u001b[0m \u001b[0mof\u001b[0m \u001b[0mtensors\u001b[0m \u001b[0mof\u001b[0m \u001b[0mmodel\u001b[0m \u001b[0mweights\u001b[0m\u001b[0;34m\u001b[0m\u001b[0;34m\u001b[0m\u001b[0m\n\u001b[1;32m      5\u001b[0m     '''\n\u001b[0;32m----> 6\u001b[0;31m     \u001b[0mmodel_weights\u001b[0m \u001b[0;34m=\u001b[0m \u001b[0mnp\u001b[0m\u001b[0;34m.\u001b[0m\u001b[0marray\u001b[0m\u001b[0;34m(\u001b[0m\u001b[0;34m)\u001b[0m\u001b[0;34m\u001b[0m\u001b[0;34m\u001b[0m\u001b[0m\n\u001b[0m\u001b[1;32m      7\u001b[0m     \u001b[0;32mfor\u001b[0m \u001b[0mparam\u001b[0m \u001b[0;32min\u001b[0m \u001b[0mmodel\u001b[0m\u001b[0;34m.\u001b[0m\u001b[0mparameters\u001b[0m\u001b[0;34m(\u001b[0m\u001b[0;34m)\u001b[0m\u001b[0;34m:\u001b[0m\u001b[0;34m\u001b[0m\u001b[0;34m\u001b[0m\u001b[0m\n\u001b[1;32m      8\u001b[0m         \u001b[0mmodel_weights\u001b[0m\u001b[0;34m.\u001b[0m\u001b[0mappend\u001b[0m\u001b[0;34m(\u001b[0m\u001b[0mparam\u001b[0m\u001b[0;34m)\u001b[0m \u001b[0;31m# check without .data\u001b[0m\u001b[0;34m\u001b[0m\u001b[0;34m\u001b[0m\u001b[0m\n",
      "\u001b[0;31mTypeError\u001b[0m: array() missing required argument 'object' (pos 1)"
     ]
    }
   ],
   "source": [
    "agg_mo = fed_avg_aggregator([(model, 10)], {\"device\":\"cpu\"})"
   ]
  },
  {
   "cell_type": "code",
   "execution_count": 50,
   "metadata": {},
   "outputs": [
    {
     "name": "stdout",
     "output_type": "stream",
     "text": [
      "torch.float32\n"
     ]
    }
   ],
   "source": [
    "for i in agg_mo.parameters():\n",
    "    print(i.dtype)\n",
    "    break"
   ]
  },
  {
   "cell_type": "code",
   "execution_count": 53,
   "metadata": {},
   "outputs": [
    {
     "data": {
      "text/plain": [
       "[]"
      ]
     },
     "execution_count": 53,
     "metadata": {},
     "output_type": "execute_result"
    }
   ],
   "source": [
    "important"
   ]
  },
  {
   "cell_type": "code",
   "execution_count": null,
   "metadata": {},
   "outputs": [],
   "source": []
  }
 ],
 "metadata": {
  "kernelspec": {
   "display_name": "Python 3",
   "language": "python",
   "name": "python3"
  },
  "language_info": {
   "codemirror_mode": {
    "name": "ipython",
    "version": 3
   },
   "file_extension": ".py",
   "mimetype": "text/x-python",
   "name": "python",
   "nbconvert_exporter": "python",
   "pygments_lexer": "ipython3",
   "version": "3.7.5"
  }
 },
 "nbformat": 4,
 "nbformat_minor": 4
}
