{
 "cells": [
  {
   "cell_type": "code",
   "execution_count": 1,
   "metadata": {},
   "outputs": [],
   "source": [
    "import os\n",
    "import pandas as pd"
   ]
  },
  {
   "cell_type": "code",
   "execution_count": 23,
   "metadata": {},
   "outputs": [
    {
     "name": "stdout",
     "output_type": "stream",
     "text": [
      "5216\n"
     ]
    }
   ],
   "source": [
    "df = pd.read_csv('../csv/train.csv')\n",
    "length = len(df)\n",
    "print(length)"
   ]
  },
  {
   "cell_type": "code",
   "execution_count": 10,
   "metadata": {},
   "outputs": [
    {
     "data": {
      "text/plain": [
       "1564"
      ]
     },
     "execution_count": 10,
     "metadata": {},
     "output_type": "execute_result"
    }
   ],
   "source": [
    "percentage = 0.3\n",
    "numrows = int(length * percentage )\n",
    "numrows"
   ]
  },
  {
   "cell_type": "code",
   "execution_count": 19,
   "metadata": {},
   "outputs": [],
   "source": [
    "\n",
    "import random\n",
    "indices = random.sample(range(0, length), numrows)"
   ]
  },
  {
   "cell_type": "code",
   "execution_count": 22,
   "metadata": {},
   "outputs": [],
   "source": [
    "def testmodule(df, percentage):\n",
    "    length = len(df)\n",
    "    percentage = 0.3\n",
    "    numrows = int(length * percentage )\n",
    "    for i in indices:\n",
    "        if(df.loc[i,'label']==\"NORMAL\"):\n",
    "            df.loc[i,'label']  = \"PNEUMONIA\"\n",
    "        else:\n",
    "            df.loc[i,'label'] = \"NORMAL\"\n",
    "    "
   ]
  },
  {
   "cell_type": "code",
   "execution_count": 21,
   "metadata": {},
   "outputs": [
    {
     "data": {
      "text/html": [
       "<div>\n",
       "<style scoped>\n",
       "    .dataframe tbody tr th:only-of-type {\n",
       "        vertical-align: middle;\n",
       "    }\n",
       "\n",
       "    .dataframe tbody tr th {\n",
       "        vertical-align: top;\n",
       "    }\n",
       "\n",
       "    .dataframe thead th {\n",
       "        text-align: right;\n",
       "    }\n",
       "</style>\n",
       "<table border=\"1\" class=\"dataframe\">\n",
       "  <thead>\n",
       "    <tr style=\"text-align: right;\">\n",
       "      <th></th>\n",
       "      <th>Unnamed: 0</th>\n",
       "      <th>image</th>\n",
       "      <th>label</th>\n",
       "    </tr>\n",
       "  </thead>\n",
       "  <tbody>\n",
       "    <tr>\n",
       "      <th>0</th>\n",
       "      <td>0</td>\n",
       "      <td>NORMAL2-IM-1020-0001.jpeg</td>\n",
       "      <td>PNEUMONIA</td>\n",
       "    </tr>\n",
       "    <tr>\n",
       "      <th>1</th>\n",
       "      <td>1</td>\n",
       "      <td>NORMAL2-IM-0843-0001.jpeg</td>\n",
       "      <td>PNEUMONIA</td>\n",
       "    </tr>\n",
       "    <tr>\n",
       "      <th>2</th>\n",
       "      <td>2</td>\n",
       "      <td>NORMAL2-IM-0866-0001.jpeg</td>\n",
       "      <td>NORMAL</td>\n",
       "    </tr>\n",
       "    <tr>\n",
       "      <th>3</th>\n",
       "      <td>3</td>\n",
       "      <td>IM-0543-0001.jpeg</td>\n",
       "      <td>NORMAL</td>\n",
       "    </tr>\n",
       "    <tr>\n",
       "      <th>4</th>\n",
       "      <td>4</td>\n",
       "      <td>IM-0131-0001.jpeg</td>\n",
       "      <td>PNEUMONIA</td>\n",
       "    </tr>\n",
       "    <tr>\n",
       "      <th>...</th>\n",
       "      <td>...</td>\n",
       "      <td>...</td>\n",
       "      <td>...</td>\n",
       "    </tr>\n",
       "    <tr>\n",
       "      <th>5211</th>\n",
       "      <td>5211</td>\n",
       "      <td>person662_bacteria_2554.jpeg</td>\n",
       "      <td>PNEUMONIA</td>\n",
       "    </tr>\n",
       "    <tr>\n",
       "      <th>5212</th>\n",
       "      <td>5212</td>\n",
       "      <td>person307_bacteria_1441.jpeg</td>\n",
       "      <td>NORMAL</td>\n",
       "    </tr>\n",
       "    <tr>\n",
       "      <th>5213</th>\n",
       "      <td>5213</td>\n",
       "      <td>person253_bacteria_1157.jpeg</td>\n",
       "      <td>PNEUMONIA</td>\n",
       "    </tr>\n",
       "    <tr>\n",
       "      <th>5214</th>\n",
       "      <td>5214</td>\n",
       "      <td>person103_virus_190.jpeg</td>\n",
       "      <td>PNEUMONIA</td>\n",
       "    </tr>\n",
       "    <tr>\n",
       "      <th>5215</th>\n",
       "      <td>5215</td>\n",
       "      <td>person673_bacteria_2566.jpeg</td>\n",
       "      <td>PNEUMONIA</td>\n",
       "    </tr>\n",
       "  </tbody>\n",
       "</table>\n",
       "<p>5216 rows × 3 columns</p>\n",
       "</div>"
      ],
      "text/plain": [
       "      Unnamed: 0                         image      label\n",
       "0              0     NORMAL2-IM-1020-0001.jpeg  PNEUMONIA\n",
       "1              1     NORMAL2-IM-0843-0001.jpeg  PNEUMONIA\n",
       "2              2     NORMAL2-IM-0866-0001.jpeg     NORMAL\n",
       "3              3             IM-0543-0001.jpeg     NORMAL\n",
       "4              4             IM-0131-0001.jpeg  PNEUMONIA\n",
       "...          ...                           ...        ...\n",
       "5211        5211  person662_bacteria_2554.jpeg  PNEUMONIA\n",
       "5212        5212  person307_bacteria_1441.jpeg     NORMAL\n",
       "5213        5213  person253_bacteria_1157.jpeg  PNEUMONIA\n",
       "5214        5214      person103_virus_190.jpeg  PNEUMONIA\n",
       "5215        5215  person673_bacteria_2566.jpeg  PNEUMONIA\n",
       "\n",
       "[5216 rows x 3 columns]"
      ]
     },
     "execution_count": 21,
     "metadata": {},
     "output_type": "execute_result"
    }
   ],
   "source": [
    "df"
   ]
  },
  {
   "cell_type": "code",
   "execution_count": 18,
   "metadata": {},
   "outputs": [
    {
     "data": {
      "text/html": [
       "<div>\n",
       "<style scoped>\n",
       "    .dataframe tbody tr th:only-of-type {\n",
       "        vertical-align: middle;\n",
       "    }\n",
       "\n",
       "    .dataframe tbody tr th {\n",
       "        vertical-align: top;\n",
       "    }\n",
       "\n",
       "    .dataframe thead th {\n",
       "        text-align: right;\n",
       "    }\n",
       "</style>\n",
       "<table border=\"1\" class=\"dataframe\">\n",
       "  <thead>\n",
       "    <tr style=\"text-align: right;\">\n",
       "      <th></th>\n",
       "      <th>Unnamed: 0</th>\n",
       "      <th>image</th>\n",
       "      <th>label</th>\n",
       "    </tr>\n",
       "  </thead>\n",
       "  <tbody>\n",
       "    <tr>\n",
       "      <th>0</th>\n",
       "      <td>0</td>\n",
       "      <td>NORMAL2-IM-1020-0001.jpeg</td>\n",
       "      <td>NORMAL</td>\n",
       "    </tr>\n",
       "    <tr>\n",
       "      <th>1</th>\n",
       "      <td>1</td>\n",
       "      <td>NORMAL2-IM-0843-0001.jpeg</td>\n",
       "      <td>PNEUMONIA</td>\n",
       "    </tr>\n",
       "    <tr>\n",
       "      <th>2</th>\n",
       "      <td>2</td>\n",
       "      <td>NORMAL2-IM-0866-0001.jpeg</td>\n",
       "      <td>NORMAL</td>\n",
       "    </tr>\n",
       "    <tr>\n",
       "      <th>3</th>\n",
       "      <td>3</td>\n",
       "      <td>IM-0543-0001.jpeg</td>\n",
       "      <td>NORMAL</td>\n",
       "    </tr>\n",
       "    <tr>\n",
       "      <th>4</th>\n",
       "      <td>4</td>\n",
       "      <td>IM-0131-0001.jpeg</td>\n",
       "      <td>NORMAL</td>\n",
       "    </tr>\n",
       "    <tr>\n",
       "      <th>...</th>\n",
       "      <td>...</td>\n",
       "      <td>...</td>\n",
       "      <td>...</td>\n",
       "    </tr>\n",
       "    <tr>\n",
       "      <th>5211</th>\n",
       "      <td>5211</td>\n",
       "      <td>person662_bacteria_2554.jpeg</td>\n",
       "      <td>PNEUMONIA</td>\n",
       "    </tr>\n",
       "    <tr>\n",
       "      <th>5212</th>\n",
       "      <td>5212</td>\n",
       "      <td>person307_bacteria_1441.jpeg</td>\n",
       "      <td>PNEUMONIA</td>\n",
       "    </tr>\n",
       "    <tr>\n",
       "      <th>5213</th>\n",
       "      <td>5213</td>\n",
       "      <td>person253_bacteria_1157.jpeg</td>\n",
       "      <td>PNEUMONIA</td>\n",
       "    </tr>\n",
       "    <tr>\n",
       "      <th>5214</th>\n",
       "      <td>5214</td>\n",
       "      <td>person103_virus_190.jpeg</td>\n",
       "      <td>PNEUMONIA</td>\n",
       "    </tr>\n",
       "    <tr>\n",
       "      <th>5215</th>\n",
       "      <td>5215</td>\n",
       "      <td>person673_bacteria_2566.jpeg</td>\n",
       "      <td>PNEUMONIA</td>\n",
       "    </tr>\n",
       "  </tbody>\n",
       "</table>\n",
       "<p>5216 rows × 3 columns</p>\n",
       "</div>"
      ],
      "text/plain": [
       "      Unnamed: 0                         image      label\n",
       "0              0     NORMAL2-IM-1020-0001.jpeg     NORMAL\n",
       "1              1     NORMAL2-IM-0843-0001.jpeg  PNEUMONIA\n",
       "2              2     NORMAL2-IM-0866-0001.jpeg     NORMAL\n",
       "3              3             IM-0543-0001.jpeg     NORMAL\n",
       "4              4             IM-0131-0001.jpeg     NORMAL\n",
       "...          ...                           ...        ...\n",
       "5211        5211  person662_bacteria_2554.jpeg  PNEUMONIA\n",
       "5212        5212  person307_bacteria_1441.jpeg  PNEUMONIA\n",
       "5213        5213  person253_bacteria_1157.jpeg  PNEUMONIA\n",
       "5214        5214      person103_virus_190.jpeg  PNEUMONIA\n",
       "5215        5215  person673_bacteria_2566.jpeg  PNEUMONIA\n",
       "\n",
       "[5216 rows x 3 columns]"
      ]
     },
     "execution_count": 18,
     "metadata": {},
     "output_type": "execute_result"
    }
   ],
   "source": [
    "df"
   ]
  }
 ],
 "metadata": {
  "kernelspec": {
   "display_name": "Python 3",
   "language": "python",
   "name": "python3"
  },
  "language_info": {
   "codemirror_mode": {
    "name": "ipython",
    "version": 3
   },
   "file_extension": ".py",
   "mimetype": "text/x-python",
   "name": "python",
   "nbconvert_exporter": "python",
   "pygments_lexer": "ipython3",
   "version": "3.7.4"
  }
 },
 "nbformat": 4,
 "nbformat_minor": 4
}
