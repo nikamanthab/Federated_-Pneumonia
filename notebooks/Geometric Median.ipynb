{
 "cells": [
  {
   "cell_type": "code",
   "execution_count": 1,
   "metadata": {},
   "outputs": [],
   "source": [
    "import torch\n",
    "import torch.nn as nn\n",
    "import torchvision\n",
    "import torch.nn.functional as F\n",
    "import torch.optim as optim\n",
    "from torchvision import datasets, transforms\n",
    "import pandas as pd\n",
    "from torch.utils.data import Dataset, DataLoader\n",
    "import os\n",
    "from PIL import Image\n",
    "import numpy as np\n",
    "import PIL"
   ]
  },
  {
   "cell_type": "code",
   "execution_count": 2,
   "metadata": {},
   "outputs": [],
   "source": [
    "class Net(nn.Module):\n",
    "    def __init__(self):\n",
    "        super(Net, self).__init__()\n",
    "        self.conv1 = nn.Conv2d(1, 20, 5, 1)\n",
    "        self.conv2 = nn.Conv2d(20, 50, 5, 1)\n",
    "        self.fc1 = nn.Linear(4*4*50, 500)\n",
    "        self.fc2 = nn.Linear(500, 10)\n",
    "\n",
    "    def forward(self, x):\n",
    "        x = F.relu(self.conv1(x))\n",
    "        x = F.max_pool2d(x, 2, 2)\n",
    "        x = F.relu(self.conv2(x))\n",
    "        x = F.max_pool2d(x, 2, 2)\n",
    "        x = x.view(-1, 4*4*50)\n",
    "        x = F.relu(self.fc1(x))\n",
    "        x = self.fc2(x)\n",
    "        return F.log_softmax(x, dim=1)"
   ]
  },
  {
   "cell_type": "code",
   "execution_count": 3,
   "metadata": {},
   "outputs": [],
   "source": [
    "def weights_to_array(model):\n",
    "    '''\n",
    "        input: pytorch model\n",
    "        output: array of tensors of model weights\n",
    "    '''\n",
    "    model_weights = []\n",
    "    for param in model.parameters():\n",
    "        model_weights.append(param) # check without .data\n",
    "    return model_weights"
   ]
  },
  {
   "cell_type": "code",
   "execution_count": 4,
   "metadata": {},
   "outputs": [],
   "source": [
    "def g(z, node_weights, node_samples, total_no_samples):\n",
    "    '''\n",
    "        Optimizer loss function for geometric median\n",
    "        Refer equation 3 in Krishna Pillutla et al., Robust Aggregation for Federated Learning\n",
    "        \n",
    "        input:  z - aggregator weights to minimize\n",
    "                node_weights - array of model weights from weights_to_array function\n",
    "                node_samples - array of sample counts from each node\n",
    "                total_no_samples - sum(node_samples)\n",
    "        output: weighted summation of euclidean norm with respect to the aggregator weights        \n",
    "    '''\n",
    "    summation = 0.0\n",
    "    for layer_idx in range(len(node_weights[0])):\n",
    "        temp = torch.zeros(node_weights[0][layer_idx].shape)\n",
    "        for node_idx in range(len(node_weights)):\n",
    "            euclidean_norm = (z[layer_idx] - node_weights[node_idx][layer_idx])**2\n",
    "            weight_alpha = node_samples[node_idx]/total_no_samples\n",
    "            temp = temp + (weight_alpha * euclidean_norm)\n",
    "        summation = sum(temp)\n",
    "    return summation\n",
    "\n",
    "# g(weights_to_array(agg_model), [weights_to_array(model1), weights_to_array(model2)], [5, 5], 10)"
   ]
  },
  {
   "cell_type": "code",
   "execution_count": 16,
   "metadata": {},
   "outputs": [],
   "source": [
    "model1 = Net()\n",
    "model2 = Net()\n",
    "agg_model = Net()"
   ]
  },
  {
   "cell_type": "code",
   "execution_count": 7,
   "metadata": {},
   "outputs": [],
   "source": [
    "def optimizeGM(agg_model, args):\n",
    "    optimizer = optim.Adam(agg_model.parameters(), lr=0.001)\n",
    "    for _ in range(iterations):\n",
    "        optimizer.zero_grad()\n",
    "        loss = g(weights_to_array(agg_model), [weights_to_array(model1), weights_to_array(model1)], [5, 5], 10)\n",
    "        print(loss)\n",
    "        loss.backward()\n",
    "        optimizer.step()\n",
    "    return agg_model"
   ]
  },
  {
   "cell_type": "code",
   "execution_count": 19,
   "metadata": {},
   "outputs": [
    {
     "name": "stdout",
     "output_type": "stream",
     "text": [
      "tensor([[[[-1.2504e-01,  7.7111e-02,  1.3537e-01, -1.1657e-01,  1.7329e-01],\n",
      "          [-5.1712e-02,  2.1248e-02,  1.7058e-01,  4.8372e-02,  1.7051e-01],\n",
      "          [ 1.2301e-01,  4.8677e-02,  1.6425e-01,  1.9989e-01, -5.1019e-02],\n",
      "          [ 1.6017e-01, -1.6670e-01, -3.3064e-02, -1.9235e-01, -6.3099e-02],\n",
      "          [ 4.9129e-02,  6.2872e-02, -9.2443e-02, -1.2771e-01,  1.0783e-01]]],\n",
      "\n",
      "\n",
      "        [[[ 1.2969e-01,  1.9795e-01, -1.5388e-01,  8.6900e-02,  1.8385e-01],\n",
      "          [-1.6360e-01, -7.3969e-04,  1.2249e-01, -8.6362e-02,  6.1612e-02],\n",
      "          [-7.8150e-02, -1.9278e-01, -8.0221e-02,  1.8125e-01,  8.8826e-03],\n",
      "          [ 7.6412e-02, -1.5301e-01,  1.7589e-01,  6.7143e-02,  8.6784e-02],\n",
      "          [ 1.9356e-01, -3.1230e-02,  1.4794e-01, -5.5304e-02,  8.1687e-02]]],\n",
      "\n",
      "\n",
      "        [[[ 1.7238e-01,  7.2237e-02, -9.4571e-02, -4.5212e-02, -1.3148e-01],\n",
      "          [ 1.7791e-01, -7.2837e-02, -7.9420e-02, -1.1281e-01, -1.4283e-01],\n",
      "          [-1.5918e-01,  1.1719e-01, -1.6291e-01, -1.5746e-01, -8.2241e-02],\n",
      "          [-6.2430e-02,  1.6822e-01, -4.3164e-02,  9.0335e-02,  1.7431e-01],\n",
      "          [-1.5400e-01, -1.5630e-01, -1.8793e-01, -1.0177e-01,  6.9679e-02]]],\n",
      "\n",
      "\n",
      "        [[[ 3.0023e-02, -5.3926e-02,  4.2422e-02, -1.0767e-01, -1.9731e-01],\n",
      "          [-1.1075e-01, -8.2440e-02, -9.3011e-02, -9.7893e-02, -1.2828e-01],\n",
      "          [-1.8050e-01,  1.8611e-01,  9.1440e-02,  1.0877e-01,  7.2703e-02],\n",
      "          [ 1.0071e-01, -8.9562e-02, -1.1018e-01,  1.9456e-01, -1.9265e-01],\n",
      "          [-1.8639e-01, -8.7164e-03,  1.9641e-01,  5.6182e-02, -1.1531e-02]]],\n",
      "\n",
      "\n",
      "        [[[-3.2687e-02, -1.7125e-01,  1.9851e-01, -8.1099e-02,  2.4780e-02],\n",
      "          [ 3.2755e-02, -1.2708e-01, -4.9974e-02, -1.6751e-01,  1.7291e-01],\n",
      "          [ 1.6647e-01, -9.8271e-02, -4.6319e-02, -8.1893e-02,  1.1611e-01],\n",
      "          [ 2.2429e-02,  1.5408e-01, -1.4453e-01, -1.9484e-01,  1.4622e-01],\n",
      "          [ 7.2166e-02,  1.1216e-01,  1.3179e-01,  1.0291e-01, -4.5745e-02]]],\n",
      "\n",
      "\n",
      "        [[[ 1.4845e-01,  8.7872e-02, -1.6648e-01,  1.8053e-01,  5.3806e-02],\n",
      "          [ 1.3952e-01, -7.0855e-04, -1.3770e-01,  3.7530e-03,  5.5026e-02],\n",
      "          [ 4.9971e-02,  1.2433e-02, -2.7799e-02,  1.2708e-01, -1.6233e-01],\n",
      "          [ 1.5196e-01,  5.0863e-02,  1.9514e-01,  1.5936e-01, -1.2501e-01],\n",
      "          [-1.6869e-01, -1.4504e-02, -8.2212e-02,  4.8545e-02,  1.0683e-01]]],\n",
      "\n",
      "\n",
      "        [[[-9.7600e-02,  1.4961e-01, -9.7758e-02,  2.6455e-02,  3.9288e-02],\n",
      "          [-1.8637e-01, -1.3591e-01, -1.0948e-01, -1.5933e-01, -1.3380e-01],\n",
      "          [-1.9285e-01, -3.2876e-02, -1.4735e-01,  1.8129e-01,  1.7705e-01],\n",
      "          [ 9.0569e-02,  5.7399e-02,  1.4415e-01,  1.8047e-01,  1.9669e-01],\n",
      "          [ 6.9140e-02, -7.0418e-02,  4.4365e-02,  4.9074e-02,  7.7549e-02]]],\n",
      "\n",
      "\n",
      "        [[[ 1.2415e-01, -5.9941e-03, -1.6268e-01,  1.2035e-01,  5.9800e-02],\n",
      "          [-1.1492e-01,  4.4584e-02, -1.2036e-01,  1.4281e-01, -5.9508e-02],\n",
      "          [ 1.5858e-01, -1.2914e-01, -1.8168e-01, -5.0875e-03, -1.3999e-01],\n",
      "          [-9.1365e-02, -1.8195e-01,  4.3837e-02,  1.9029e-01, -5.1359e-02],\n",
      "          [-1.1030e-01,  6.8951e-02, -1.4256e-01,  2.3597e-02,  1.7395e-01]]],\n",
      "\n",
      "\n",
      "        [[[ 3.7454e-02, -1.9289e-01,  3.7079e-02, -4.6364e-03,  3.6474e-02],\n",
      "          [-5.7622e-02, -1.7365e-01, -2.6022e-02, -1.3638e-01,  9.5131e-02],\n",
      "          [ 1.1860e-01,  1.0219e-01,  1.1162e-01,  8.5952e-02,  1.8734e-01],\n",
      "          [ 1.3454e-01,  1.9243e-01, -1.8771e-01,  1.5033e-01,  1.3651e-01],\n",
      "          [-6.5470e-02, -1.4048e-01,  1.2884e-01,  4.7051e-02,  6.1264e-02]]],\n",
      "\n",
      "\n",
      "        [[[-1.1273e-02, -1.8020e-01,  4.2435e-02, -1.5734e-01,  1.5948e-01],\n",
      "          [ 1.4192e-01, -2.9430e-02,  9.3718e-03, -1.3132e-01, -5.8714e-02],\n",
      "          [ 8.5252e-02,  9.8182e-02, -1.6542e-01, -1.8441e-03,  1.8948e-02],\n",
      "          [-8.9380e-02, -2.2659e-02,  1.3020e-02, -5.1856e-02,  1.9021e-02],\n",
      "          [ 9.2029e-02, -1.2568e-01, -1.6113e-01, -7.5786e-02, -5.6681e-02]]],\n",
      "\n",
      "\n",
      "        [[[-8.7382e-02,  9.5747e-02, -1.5031e-01, -1.9789e-01, -1.9562e-01],\n",
      "          [ 3.2653e-02, -3.1263e-02, -6.7312e-02,  1.7101e-01,  7.1409e-03],\n",
      "          [ 1.2785e-01,  8.5229e-02, -1.4239e-02,  3.4736e-02,  6.5107e-02],\n",
      "          [-1.5191e-01,  9.3059e-02,  4.9837e-02,  5.0427e-02,  1.7117e-01],\n",
      "          [ 1.1457e-02, -1.7415e-02, -6.8580e-02, -2.9758e-02, -7.7797e-02]]],\n",
      "\n",
      "\n",
      "        [[[-6.6535e-02,  6.5499e-02,  8.8591e-02,  1.2281e-01, -1.0246e-01],\n",
      "          [-1.4636e-02, -5.3034e-02,  5.3898e-02,  2.4433e-02,  1.4321e-01],\n",
      "          [-1.8060e-02,  4.4009e-02, -1.4957e-01, -1.1032e-01,  1.4948e-01],\n",
      "          [-1.5957e-01, -1.4356e-01, -1.7416e-01, -9.6315e-02,  4.8431e-02],\n",
      "          [ 7.3773e-02, -7.7523e-02, -3.0682e-02, -1.9564e-01, -5.2952e-02]]],\n",
      "\n",
      "\n",
      "        [[[ 4.1582e-02,  1.9495e-01,  1.7614e-01, -1.5745e-01, -1.2260e-02],\n",
      "          [-5.9575e-02,  1.2477e-01, -8.2719e-02, -4.8395e-02,  1.2087e-01],\n",
      "          [-8.5417e-02,  6.9363e-02,  4.9799e-03,  3.2512e-02,  1.9672e-01],\n",
      "          [ 1.0401e-01,  1.4929e-01, -4.9651e-02, -7.0146e-02, -1.1775e-01],\n",
      "          [ 1.3167e-01,  6.3418e-02,  1.0663e-01, -1.0531e-03,  3.5140e-02]]],\n",
      "\n",
      "\n",
      "        [[[-1.8327e-01, -1.2812e-01,  1.3438e-01,  1.1156e-01, -1.0894e-01],\n",
      "          [ 8.8551e-02, -1.1836e-01,  9.9704e-05,  4.0280e-02,  1.6837e-01],\n",
      "          [ 1.9736e-01, -1.5037e-01, -2.1730e-02,  1.7171e-01,  5.8077e-02],\n",
      "          [ 1.7139e-01, -1.5474e-01,  1.5985e-01,  1.9159e-01, -5.4497e-02],\n",
      "          [ 4.8448e-02,  7.6171e-03, -5.7929e-02,  1.2295e-01, -1.5044e-01]]],\n",
      "\n",
      "\n",
      "        [[[ 5.8810e-02,  4.0677e-02, -1.0067e-01,  6.3955e-02, -2.2418e-02],\n",
      "          [ 5.0269e-02,  7.2273e-02,  9.2710e-03, -1.7488e-01,  3.1744e-02],\n",
      "          [-1.2963e-01, -1.2917e-01, -1.4511e-01, -3.6170e-02,  1.3129e-01],\n",
      "          [ 7.6610e-03, -3.4120e-02,  7.8017e-03, -7.6892e-02,  1.1905e-01],\n",
      "          [ 1.1781e-01, -1.0382e-01, -2.4611e-02, -1.5875e-01,  1.3196e-01]]],\n",
      "\n",
      "\n",
      "        [[[ 4.5518e-02, -1.3645e-01, -1.4026e-01, -6.4248e-02, -1.1714e-01],\n",
      "          [ 1.0700e-01, -1.9199e-01, -7.5975e-02, -1.6063e-01, -1.7026e-01],\n",
      "          [-1.7912e-01, -1.9330e-01,  1.9856e-01,  1.9416e-02, -1.8395e-01],\n",
      "          [ 9.2261e-02,  1.7310e-01, -1.9997e-01,  5.4995e-02,  1.3285e-01],\n",
      "          [-8.4060e-02, -1.6791e-01, -4.7138e-02, -1.0842e-01,  1.9519e-01]]],\n",
      "\n",
      "\n",
      "        [[[ 7.6812e-02, -1.5610e-01, -1.1446e-01, -1.0452e-02, -1.9967e-01],\n",
      "          [ 2.6575e-02,  1.4875e-01,  2.5211e-02,  4.5716e-02,  1.1908e-02],\n",
      "          [ 1.1081e-01,  1.3033e-02,  5.7741e-02,  8.7402e-02, -9.1690e-02],\n",
      "          [ 1.1189e-01,  1.6144e-01,  3.5225e-02,  3.1704e-02,  1.5197e-01],\n",
      "          [ 6.4329e-03,  2.8040e-02,  1.1751e-02,  1.5808e-01, -8.2779e-03]]],\n",
      "\n",
      "\n",
      "        [[[ 1.1957e-01, -1.9658e-02, -6.9272e-02, -1.5737e-01,  1.1326e-01],\n",
      "          [-1.8578e-01,  5.2358e-02,  3.2346e-02, -5.0750e-02,  9.1368e-02],\n",
      "          [ 8.0466e-02, -1.6368e-01,  5.6664e-02,  7.9254e-02,  1.3858e-01],\n",
      "          [-7.5341e-02,  1.5232e-01, -1.1637e-01,  4.9629e-02, -1.4079e-01],\n",
      "          [ 1.7225e-01,  1.1680e-01, -3.8968e-02, -1.7346e-01, -1.5664e-01]]],\n",
      "\n",
      "\n",
      "        [[[-8.9467e-02,  7.9530e-02,  5.8623e-02,  2.2988e-02, -8.7627e-02],\n",
      "          [ 3.8449e-02, -1.9268e-01,  9.7673e-04, -5.6599e-02,  1.5092e-01],\n",
      "          [-1.4216e-01,  1.8134e-01, -1.5859e-01, -1.4658e-01,  9.7904e-02],\n",
      "          [-4.7022e-03, -1.9957e-01,  1.9620e-01,  3.3057e-03,  1.8618e-01],\n",
      "          [-3.1707e-02, -9.7210e-02, -4.0555e-02, -9.5984e-02, -1.1789e-01]]],\n",
      "\n",
      "\n",
      "        [[[-8.1230e-02,  1.5797e-03,  1.0319e-01, -6.4552e-02,  1.4195e-01],\n",
      "          [-6.3166e-02, -9.3320e-02, -1.9262e-01, -7.5041e-02,  2.4135e-02],\n",
      "          [ 1.7377e-01,  3.4760e-02,  1.5352e-01,  1.4213e-01, -4.5818e-02],\n",
      "          [ 1.8355e-01, -1.0109e-01, -9.6329e-02, -5.9947e-03, -5.3376e-02],\n",
      "          [-2.0572e-02, -6.8770e-02,  1.4239e-01, -1.9764e-02,  3.0086e-02]]]])\n",
      "False\n"
     ]
    }
   ],
   "source": [
    "for param in agg_model.parameters():\n",
    "    print(param.data)\n",
    "    param.data.requires_grad = True\n",
    "    print(param.data.requires_grad)\n",
    "    break"
   ]
  },
  {
   "cell_type": "code",
   "execution_count": 21,
   "metadata": {
    "scrolled": true
   },
   "outputs": [
    {
     "name": "stdout",
     "output_type": "stream",
     "text": [
      "tensor(2.8004e-05, grad_fn=<AddBackward0>)\n",
      "tensor(2.6082e-05, grad_fn=<AddBackward0>)\n",
      "tensor(1.1383e-05, grad_fn=<AddBackward0>)\n",
      "tensor(7.0989e-06, grad_fn=<AddBackward0>)\n",
      "tensor(6.3351e-06, grad_fn=<AddBackward0>)\n",
      "tensor(3.3580e-06, grad_fn=<AddBackward0>)\n",
      "tensor(7.7103e-07, grad_fn=<AddBackward0>)\n",
      "tensor(9.2439e-07, grad_fn=<AddBackward0>)\n",
      "tensor(3.3211e-06, grad_fn=<AddBackward0>)\n",
      "tensor(5.4769e-06, grad_fn=<AddBackward0>)\n",
      "tensor(5.9227e-06, grad_fn=<AddBackward0>)\n",
      "tensor(5.1705e-06, grad_fn=<AddBackward0>)\n",
      "tensor(4.3712e-06, grad_fn=<AddBackward0>)\n",
      "tensor(4.0471e-06, grad_fn=<AddBackward0>)\n",
      "tensor(3.8088e-06, grad_fn=<AddBackward0>)\n",
      "tensor(3.0791e-06, grad_fn=<AddBackward0>)\n",
      "tensor(1.8714e-06, grad_fn=<AddBackward0>)\n",
      "tensor(7.4469e-07, grad_fn=<AddBackward0>)\n",
      "tensor(2.1300e-07, grad_fn=<AddBackward0>)\n",
      "tensor(3.0815e-07, grad_fn=<AddBackward0>)\n",
      "tensor(6.5271e-07, grad_fn=<AddBackward0>)\n",
      "tensor(8.8309e-07, grad_fn=<AddBackward0>)\n",
      "tensor(9.4358e-07, grad_fn=<AddBackward0>)\n",
      "tensor(9.9807e-07, grad_fn=<AddBackward0>)\n",
      "tensor(1.1532e-06, grad_fn=<AddBackward0>)\n",
      "tensor(1.3199e-06, grad_fn=<AddBackward0>)\n",
      "tensor(1.3230e-06, grad_fn=<AddBackward0>)\n",
      "tensor(1.0976e-06, grad_fn=<AddBackward0>)\n",
      "tensor(7.5137e-07, grad_fn=<AddBackward0>)\n",
      "tensor(4.5096e-07, grad_fn=<AddBackward0>)\n",
      "tensor(2.7850e-07, grad_fn=<AddBackward0>)\n",
      "tensor(2.0282e-07, grad_fn=<AddBackward0>)\n",
      "tensor(1.5975e-07, grad_fn=<AddBackward0>)\n",
      "tensor(1.3138e-07, grad_fn=<AddBackward0>)\n",
      "tensor(1.4492e-07, grad_fn=<AddBackward0>)\n",
      "tensor(2.1544e-07, grad_fn=<AddBackward0>)\n",
      "tensor(3.1116e-07, grad_fn=<AddBackward0>)\n",
      "tensor(3.7646e-07, grad_fn=<AddBackward0>)\n",
      "tensor(3.7836e-07, grad_fn=<AddBackward0>)\n",
      "tensor(3.2646e-07, grad_fn=<AddBackward0>)\n",
      "tensor(2.5349e-07, grad_fn=<AddBackward0>)\n",
      "tensor(1.8467e-07, grad_fn=<AddBackward0>)\n",
      "tensor(1.2651e-07, grad_fn=<AddBackward0>)\n",
      "tensor(7.7336e-08, grad_fn=<AddBackward0>)\n",
      "tensor(4.0815e-08, grad_fn=<AddBackward0>)\n",
      "tensor(2.6360e-08, grad_fn=<AddBackward0>)\n",
      "tensor(3.8139e-08, grad_fn=<AddBackward0>)\n",
      "tensor(6.7160e-08, grad_fn=<AddBackward0>)\n",
      "tensor(9.5713e-08, grad_fn=<AddBackward0>)\n",
      "tensor(1.0984e-07, grad_fn=<AddBackward0>)\n",
      "tensor(1.0734e-07, grad_fn=<AddBackward0>)\n",
      "tensor(9.4450e-08, grad_fn=<AddBackward0>)\n",
      "tensor(7.7160e-08, grad_fn=<AddBackward0>)\n",
      "tensor(5.7215e-08, grad_fn=<AddBackward0>)\n",
      "tensor(3.5655e-08, grad_fn=<AddBackward0>)\n",
      "tensor(1.7036e-08, grad_fn=<AddBackward0>)\n",
      "tensor(7.6456e-09, grad_fn=<AddBackward0>)\n",
      "tensor(9.6506e-09, grad_fn=<AddBackward0>)\n",
      "tensor(1.8571e-08, grad_fn=<AddBackward0>)\n",
      "tensor(2.7301e-08, grad_fn=<AddBackward0>)\n",
      "tensor(3.1939e-08, grad_fn=<AddBackward0>)\n",
      "tensor(3.3029e-08, grad_fn=<AddBackward0>)\n",
      "tensor(3.1963e-08, grad_fn=<AddBackward0>)\n",
      "tensor(2.8143e-08, grad_fn=<AddBackward0>)\n",
      "tensor(2.0641e-08, grad_fn=<AddBackward0>)\n",
      "tensor(1.1406e-08, grad_fn=<AddBackward0>)\n",
      "tensor(4.7242e-09, grad_fn=<AddBackward0>)\n",
      "tensor(3.0236e-09, grad_fn=<AddBackward0>)\n",
      "tensor(4.6309e-09, grad_fn=<AddBackward0>)\n",
      "tensor(6.5181e-09, grad_fn=<AddBackward0>)\n",
      "tensor(7.9424e-09, grad_fn=<AddBackward0>)\n",
      "tensor(9.8679e-09, grad_fn=<AddBackward0>)\n",
      "tensor(1.1801e-08, grad_fn=<AddBackward0>)\n",
      "tensor(1.1580e-08, grad_fn=<AddBackward0>)\n",
      "tensor(8.5710e-09, grad_fn=<AddBackward0>)\n",
      "tensor(4.9565e-09, grad_fn=<AddBackward0>)\n",
      "tensor(2.9223e-09, grad_fn=<AddBackward0>)\n",
      "tensor(2.1856e-09, grad_fn=<AddBackward0>)\n",
      "tensor(1.4994e-09, grad_fn=<AddBackward0>)\n",
      "tensor(1.1069e-09, grad_fn=<AddBackward0>)\n",
      "tensor(1.9912e-09, grad_fn=<AddBackward0>)\n",
      "tensor(3.6286e-09, grad_fn=<AddBackward0>)\n",
      "tensor(4.3748e-09, grad_fn=<AddBackward0>)\n",
      "tensor(3.7795e-09, grad_fn=<AddBackward0>)\n",
      "tensor(2.8896e-09, grad_fn=<AddBackward0>)\n",
      "tensor(2.3394e-09, grad_fn=<AddBackward0>)\n",
      "tensor(1.6737e-09, grad_fn=<AddBackward0>)\n",
      "tensor(7.0819e-10, grad_fn=<AddBackward0>)\n",
      "tensor(1.4877e-10, grad_fn=<AddBackward0>)\n",
      "tensor(4.2463e-10, grad_fn=<AddBackward0>)\n",
      "tensor(9.8675e-10, grad_fn=<AddBackward0>)\n",
      "tensor(1.2298e-09, grad_fn=<AddBackward0>)\n",
      "tensor(1.2606e-09, grad_fn=<AddBackward0>)\n",
      "tensor(1.3350e-09, grad_fn=<AddBackward0>)\n",
      "tensor(1.2745e-09, grad_fn=<AddBackward0>)\n",
      "tensor(8.8706e-10, grad_fn=<AddBackward0>)\n",
      "tensor(4.2002e-10, grad_fn=<AddBackward0>)\n",
      "tensor(1.9562e-10, grad_fn=<AddBackward0>)\n",
      "tensor(1.8400e-10, grad_fn=<AddBackward0>)\n",
      "tensor(2.1441e-10, grad_fn=<AddBackward0>)\n",
      "True\n",
      "True\n",
      "True\n",
      "True\n",
      "True\n",
      "True\n",
      "True\n",
      "False\n"
     ]
    }
   ],
   "source": [
    "iterations = 100\n",
    "weights = []\n",
    "for param in agg_model.parameters():\n",
    "    weights.append(param)\n",
    "optimizer = optim.Adam(weights, lr=0.001)\n",
    "a = []\n",
    "for i in agg_model.parameters():\n",
    "    a.append(i.clone())\n",
    "for _ in range(iterations):\n",
    "    optimizer.zero_grad()\n",
    "    loss = g(weights_to_array(agg_model), [weights_to_array(model1), weights_to_array(model1)], [5, 5], 10)\n",
    "    print(loss)\n",
    "    loss.backward()\n",
    "    optimizer.step()\n",
    "b = []\n",
    "for i in agg_model.parameters():\n",
    "    b.append(i.clone())\n",
    "for i in range(len(a)):\n",
    "    print(torch.equal(a[i].data, b[i].data))\n"
   ]
  },
  {
   "cell_type": "code",
   "execution_count": null,
   "metadata": {},
   "outputs": [],
   "source": [
    "def Geometric_Median(model_data):\n",
    "    '''\n",
    "        input: array of tuples containing model \n",
    "        and the number of samples from each respective node\n",
    "        output: geometric median aggregated model\n",
    "    '''\n",
    "    total_no_samples = 0\n",
    "    \n",
    "    # creates an array of weights and sample counts\n",
    "    # shape -> no_models*no_layers*dim_of_layer\n",
    "    node_weights = []\n",
    "    node_samples = []\n",
    "    for model,no_samples in model_data:\n",
    "        node_weights.append(weights_to_array(model))\n",
    "        node_samples.append(no_samples)\n",
    "    # calculates the total number of samples\n",
    "        total_no_samples += no_samples\n",
    "    \n",
    "    aggregated_weights = []\n",
    "    for layer_idx in range(len(node_weights[0])):\n",
    "        temp = torch.zeros(node_weights[0][layer_idx].shape)\n",
    "        for node_idx in range(len(node_weights)):\n",
    "            temp+= (node_samples[node_idx]/total_no_samples)*node_weights[node_idx][layer_idx]\n",
    "        aggregated_weights.append(temp)\n",
    "    agg_model = Net()\n",
    "    for idx, param in enumerate(agg_model.parameters()):\n",
    "        param.data = aggregated_weights[idx]\n",
    "    return agg_model"
   ]
  },
  {
   "cell_type": "code",
   "execution_count": 41,
   "metadata": {},
   "outputs": [],
   "source": [
    "model = Net()"
   ]
  },
  {
   "cell_type": "code",
   "execution_count": 43,
   "metadata": {},
   "outputs": [],
   "source": [
    "params = list(model.parameters())"
   ]
  },
  {
   "cell_type": "code",
   "execution_count": 50,
   "metadata": {},
   "outputs": [
    {
     "name": "stdout",
     "output_type": "stream",
     "text": [
      "torch.Size([20, 1, 5, 5])\n",
      "torch.Size([20])\n",
      "torch.Size([50, 20, 5, 5])\n",
      "torch.Size([50])\n",
      "torch.Size([500, 800])\n",
      "torch.Size([500])\n",
      "torch.Size([10, 500])\n",
      "torch.Size([10])\n"
     ]
    }
   ],
   "source": [
    "for p in params:\n",
    "    print(p.shape)"
   ]
  },
  {
   "cell_type": "code",
   "execution_count": 74,
   "metadata": {},
   "outputs": [
    {
     "data": {
      "text/plain": [
       "tensor(1.6758, grad_fn=<AddBackward0>)"
      ]
     },
     "execution_count": 74,
     "metadata": {},
     "output_type": "execute_result"
    }
   ],
   "source": [
    "sum(((params[0] - params[0]/2)**2).flatten())+0.0"
   ]
  },
  {
   "cell_type": "code",
   "execution_count": 63,
   "metadata": {},
   "outputs": [
    {
     "data": {
      "text/plain": [
       "0.009138404025"
      ]
     },
     "execution_count": 63,
     "metadata": {},
     "output_type": "execute_result"
    }
   ],
   "source": [
    "(1.9119e-01/2)**2"
   ]
  },
  {
   "cell_type": "code",
   "execution_count": 75,
   "metadata": {},
   "outputs": [],
   "source": [
    "l = [1,2,3,4,5,6,7]"
   ]
  },
  {
   "cell_type": "code",
   "execution_count": 90,
   "metadata": {},
   "outputs": [],
   "source": [
    "t = torch.Tensor([[1,2,3,10,11],[1,2,50,90,100]])"
   ]
  },
  {
   "cell_type": "code",
   "execution_count": 92,
   "metadata": {},
   "outputs": [
    {
     "data": {
      "text/plain": [
       "torch.return_types.median(\n",
       "values=tensor([ 3., 50.]),\n",
       "indices=tensor([2, 2]))"
      ]
     },
     "execution_count": 92,
     "metadata": {},
     "output_type": "execute_result"
    }
   ],
   "source": [
    "torch.median(t,dim=-1)"
   ]
  },
  {
   "cell_type": "code",
   "execution_count": null,
   "metadata": {},
   "outputs": [],
   "source": []
  }
 ],
 "metadata": {
  "kernelspec": {
   "display_name": "Python 3",
   "language": "python",
   "name": "python3"
  },
  "language_info": {
   "codemirror_mode": {
    "name": "ipython",
    "version": 3
   },
   "file_extension": ".py",
   "mimetype": "text/x-python",
   "name": "python",
   "nbconvert_exporter": "python",
   "pygments_lexer": "ipython3",
   "version": "3.7.9"
  }
 },
 "nbformat": 4,
 "nbformat_minor": 4
}
