{
 "cells": [
  {
   "cell_type": "code",
   "execution_count": 2,
   "metadata": {},
   "outputs": [],
   "source": [
    "import pandas as pd"
   ]
  },
  {
   "cell_type": "code",
   "execution_count": 31,
   "metadata": {},
   "outputs": [],
   "source": [
    "import random"
   ]
  },
  {
   "cell_type": "code",
   "execution_count": 195,
   "metadata": {},
   "outputs": [],
   "source": [
    "df =pd.read_csv(\"../csv/train_0.csv\")"
   ]
  },
  {
   "cell_type": "code",
   "execution_count": 196,
   "metadata": {},
   "outputs": [
    {
     "data": {
      "text/plain": [
       "2608"
      ]
     },
     "execution_count": 196,
     "metadata": {},
     "output_type": "execute_result"
    }
   ],
   "source": [
    "len(df)"
   ]
  },
  {
   "cell_type": "code",
   "execution_count": 197,
   "metadata": {},
   "outputs": [],
   "source": [
    "def datasplit(num_nodes,df):\n",
    "#     parser = argparse.ArgumentParser(description='Server module.')\n",
    "#     parser.add_argument('--num_nodes', type=int, default=5)\n",
    "#     parser.add_argument('--input_file', type=str)\n",
    "#     parser.add_argument('--output_file',type=str)\n",
    "#     args = parser.parse_args()\n",
    "    \n",
    "#     df=pd.read_csv(args['input_file'])\n",
    "    \n",
    "    \n",
    "    length=len(df)\n",
    "    numrows = int(length/num_nodes)\n",
    "    nodes = [[] for i in range(num_nodes) ]\n",
    "    count=0\n",
    "    while(count<num_nodes):\n",
    "        length = len(df)\n",
    "        indices = random.sample(range(0, length), numrows)\n",
    "        nodes[count] = df.loc[indices]\n",
    "        df = df.drop(indices)\n",
    "        df=df.reset_index(drop=True)\n",
    "        count+=1\n",
    "    \n",
    "    for i in range(num_nodes):            \n",
    "        temp=pd.DataFrame(nodes[i])\n",
    "        filename = \"node_\" + str(i) + \".csv\"\n",
    "#         path = \"../csv/split/\" + filename + \".csv\"\n",
    "#         path = args[\"output_file\"] + filename\n",
    "        temp.to_csv(filename)\n",
    "        \n",
    "    print(df)\n",
    "        "
   ]
  },
  {
   "cell_type": "code",
   "execution_count": 198,
   "metadata": {
    "scrolled": true
   },
   "outputs": [
    {
     "name": "stdout",
     "output_type": "stream",
     "text": [
      "   Unnamed: 0                          image      label\n",
      "0        4638      person901_virus_1555.jpeg  PNEUMONIA\n",
      "1        2028  person1469_bacteria_3827.jpeg  PNEUMONIA\n",
      "2        2046      person527_virus_1048.jpeg  PNEUMONIA\n",
      "3        1986   person525_bacteria_2216.jpeg  PNEUMONIA\n",
      "4        3773  person1171_bacteria_3118.jpeg  PNEUMONIA\n",
      "5        3653     person73_bacteria_357.jpeg  PNEUMONIA\n",
      "6         506              IM-0207-0001.jpeg     NORMAL\n",
      "7        4390   person441_bacteria_1916.jpeg  PNEUMONIA\n"
     ]
    }
   ],
   "source": [
    "datasplit(10,df)"
   ]
  },
  {
   "cell_type": "code",
   "execution_count": 199,
   "metadata": {},
   "outputs": [
    {
     "data": {
      "text/html": [
       "<div>\n",
       "<style scoped>\n",
       "    .dataframe tbody tr th:only-of-type {\n",
       "        vertical-align: middle;\n",
       "    }\n",
       "\n",
       "    .dataframe tbody tr th {\n",
       "        vertical-align: top;\n",
       "    }\n",
       "\n",
       "    .dataframe thead th {\n",
       "        text-align: right;\n",
       "    }\n",
       "</style>\n",
       "<table border=\"1\" class=\"dataframe\">\n",
       "  <thead>\n",
       "    <tr style=\"text-align: right;\">\n",
       "      <th></th>\n",
       "      <th>Unnamed: 0</th>\n",
       "      <th>Unnamed: 0.1</th>\n",
       "      <th>image</th>\n",
       "      <th>label</th>\n",
       "    </tr>\n",
       "  </thead>\n",
       "  <tbody>\n",
       "    <tr>\n",
       "      <th>0</th>\n",
       "      <td>1491</td>\n",
       "      <td>2614</td>\n",
       "      <td>person703_bacteria_2602.jpeg</td>\n",
       "      <td>PNEUMONIA</td>\n",
       "    </tr>\n",
       "    <tr>\n",
       "      <th>1</th>\n",
       "      <td>2208</td>\n",
       "      <td>2218</td>\n",
       "      <td>person1489_virus_2594.jpeg</td>\n",
       "      <td>PNEUMONIA</td>\n",
       "    </tr>\n",
       "    <tr>\n",
       "      <th>2</th>\n",
       "      <td>1825</td>\n",
       "      <td>2684</td>\n",
       "      <td>person1217_bacteria_3169.jpeg</td>\n",
       "      <td>PNEUMONIA</td>\n",
       "    </tr>\n",
       "    <tr>\n",
       "      <th>3</th>\n",
       "      <td>45</td>\n",
       "      <td>750</td>\n",
       "      <td>NORMAL2-IM-1110-0001.jpeg</td>\n",
       "      <td>NORMAL</td>\n",
       "    </tr>\n",
       "    <tr>\n",
       "      <th>4</th>\n",
       "      <td>1661</td>\n",
       "      <td>3498</td>\n",
       "      <td>person545_bacteria_2290.jpeg</td>\n",
       "      <td>PNEUMONIA</td>\n",
       "    </tr>\n",
       "    <tr>\n",
       "      <th>...</th>\n",
       "      <td>...</td>\n",
       "      <td>...</td>\n",
       "      <td>...</td>\n",
       "      <td>...</td>\n",
       "    </tr>\n",
       "    <tr>\n",
       "      <th>255</th>\n",
       "      <td>501</td>\n",
       "      <td>2488</td>\n",
       "      <td>person515_virus_1032.jpeg</td>\n",
       "      <td>PNEUMONIA</td>\n",
       "    </tr>\n",
       "    <tr>\n",
       "      <th>256</th>\n",
       "      <td>2230</td>\n",
       "      <td>3827</td>\n",
       "      <td>person832_virus_1468.jpeg</td>\n",
       "      <td>PNEUMONIA</td>\n",
       "    </tr>\n",
       "    <tr>\n",
       "      <th>257</th>\n",
       "      <td>1310</td>\n",
       "      <td>2442</td>\n",
       "      <td>person253_bacteria_1155.jpeg</td>\n",
       "      <td>PNEUMONIA</td>\n",
       "    </tr>\n",
       "    <tr>\n",
       "      <th>258</th>\n",
       "      <td>227</td>\n",
       "      <td>797</td>\n",
       "      <td>NORMAL2-IM-0659-0001.jpeg</td>\n",
       "      <td>NORMAL</td>\n",
       "    </tr>\n",
       "    <tr>\n",
       "      <th>259</th>\n",
       "      <td>1901</td>\n",
       "      <td>3015</td>\n",
       "      <td>person563_bacteria_2338.jpeg</td>\n",
       "      <td>PNEUMONIA</td>\n",
       "    </tr>\n",
       "  </tbody>\n",
       "</table>\n",
       "<p>260 rows × 4 columns</p>\n",
       "</div>"
      ],
      "text/plain": [
       "     Unnamed: 0  Unnamed: 0.1                          image      label\n",
       "0          1491          2614   person703_bacteria_2602.jpeg  PNEUMONIA\n",
       "1          2208          2218     person1489_virus_2594.jpeg  PNEUMONIA\n",
       "2          1825          2684  person1217_bacteria_3169.jpeg  PNEUMONIA\n",
       "3            45           750      NORMAL2-IM-1110-0001.jpeg     NORMAL\n",
       "4          1661          3498   person545_bacteria_2290.jpeg  PNEUMONIA\n",
       "..          ...           ...                            ...        ...\n",
       "255         501          2488      person515_virus_1032.jpeg  PNEUMONIA\n",
       "256        2230          3827      person832_virus_1468.jpeg  PNEUMONIA\n",
       "257        1310          2442   person253_bacteria_1155.jpeg  PNEUMONIA\n",
       "258         227           797      NORMAL2-IM-0659-0001.jpeg     NORMAL\n",
       "259        1901          3015   person563_bacteria_2338.jpeg  PNEUMONIA\n",
       "\n",
       "[260 rows x 4 columns]"
      ]
     },
     "execution_count": 199,
     "metadata": {},
     "output_type": "execute_result"
    }
   ],
   "source": [
    "\n",
    "df1=pd.read_csv(\"node_0.CSV\")\n",
    "df1"
   ]
  },
  {
   "cell_type": "code",
   "execution_count": 170,
   "metadata": {},
   "outputs": [
    {
     "data": {
      "text/html": [
       "<div>\n",
       "<style scoped>\n",
       "    .dataframe tbody tr th:only-of-type {\n",
       "        vertical-align: middle;\n",
       "    }\n",
       "\n",
       "    .dataframe tbody tr th {\n",
       "        vertical-align: top;\n",
       "    }\n",
       "\n",
       "    .dataframe thead th {\n",
       "        text-align: right;\n",
       "    }\n",
       "</style>\n",
       "<table border=\"1\" class=\"dataframe\">\n",
       "  <thead>\n",
       "    <tr style=\"text-align: right;\">\n",
       "      <th></th>\n",
       "      <th>Unnamed: 0</th>\n",
       "      <th>image</th>\n",
       "      <th>label</th>\n",
       "    </tr>\n",
       "  </thead>\n",
       "  <tbody>\n",
       "    <tr>\n",
       "      <th>0</th>\n",
       "      <td>2686</td>\n",
       "      <td>person669_bacteria_2561.jpeg</td>\n",
       "      <td>PNEUMONIA</td>\n",
       "    </tr>\n",
       "    <tr>\n",
       "      <th>1</th>\n",
       "      <td>3325</td>\n",
       "      <td>person1544_bacteria_4037.jpeg</td>\n",
       "      <td>PNEUMONIA</td>\n",
       "    </tr>\n",
       "    <tr>\n",
       "      <th>2</th>\n",
       "      <td>2212</td>\n",
       "      <td>person826_bacteria_2737.jpeg</td>\n",
       "      <td>PNEUMONIA</td>\n",
       "    </tr>\n",
       "    <tr>\n",
       "      <th>3</th>\n",
       "      <td>935</td>\n",
       "      <td>IM-0400-0001.jpeg</td>\n",
       "      <td>NORMAL</td>\n",
       "    </tr>\n",
       "    <tr>\n",
       "      <th>4</th>\n",
       "      <td>316</td>\n",
       "      <td>NORMAL2-IM-0925-0001.jpeg</td>\n",
       "      <td>NORMAL</td>\n",
       "    </tr>\n",
       "    <tr>\n",
       "      <th>...</th>\n",
       "      <td>...</td>\n",
       "      <td>...</td>\n",
       "      <td>...</td>\n",
       "    </tr>\n",
       "    <tr>\n",
       "      <th>2603</th>\n",
       "      <td>1993</td>\n",
       "      <td>person7_bacteria_25.jpeg</td>\n",
       "      <td>PNEUMONIA</td>\n",
       "    </tr>\n",
       "    <tr>\n",
       "      <th>2604</th>\n",
       "      <td>3219</td>\n",
       "      <td>person1046_bacteria_2980.jpeg</td>\n",
       "      <td>PNEUMONIA</td>\n",
       "    </tr>\n",
       "    <tr>\n",
       "      <th>2605</th>\n",
       "      <td>2530</td>\n",
       "      <td>person765_bacteria_2669.jpeg</td>\n",
       "      <td>PNEUMONIA</td>\n",
       "    </tr>\n",
       "    <tr>\n",
       "      <th>2606</th>\n",
       "      <td>567</td>\n",
       "      <td>NORMAL2-IM-0451-0001.jpeg</td>\n",
       "      <td>NORMAL</td>\n",
       "    </tr>\n",
       "    <tr>\n",
       "      <th>2607</th>\n",
       "      <td>1469</td>\n",
       "      <td>person1868_bacteria_4743.jpeg</td>\n",
       "      <td>PNEUMONIA</td>\n",
       "    </tr>\n",
       "  </tbody>\n",
       "</table>\n",
       "<p>2608 rows × 3 columns</p>\n",
       "</div>"
      ],
      "text/plain": [
       "      Unnamed: 0                          image      label\n",
       "0           2686   person669_bacteria_2561.jpeg  PNEUMONIA\n",
       "1           3325  person1544_bacteria_4037.jpeg  PNEUMONIA\n",
       "2           2212   person826_bacteria_2737.jpeg  PNEUMONIA\n",
       "3            935              IM-0400-0001.jpeg     NORMAL\n",
       "4            316      NORMAL2-IM-0925-0001.jpeg     NORMAL\n",
       "...          ...                            ...        ...\n",
       "2603        1993       person7_bacteria_25.jpeg  PNEUMONIA\n",
       "2604        3219  person1046_bacteria_2980.jpeg  PNEUMONIA\n",
       "2605        2530   person765_bacteria_2669.jpeg  PNEUMONIA\n",
       "2606         567      NORMAL2-IM-0451-0001.jpeg     NORMAL\n",
       "2607        1469  person1868_bacteria_4743.jpeg  PNEUMONIA\n",
       "\n",
       "[2608 rows x 3 columns]"
      ]
     },
     "execution_count": 170,
     "metadata": {},
     "output_type": "execute_result"
    }
   ],
   "source": [
    "df"
   ]
  },
  {
   "cell_type": "code",
   "execution_count": null,
   "metadata": {},
   "outputs": [],
   "source": []
  }
 ],
 "metadata": {
  "kernelspec": {
   "display_name": "Python 3",
   "language": "python",
   "name": "python3"
  },
  "language_info": {
   "codemirror_mode": {
    "name": "ipython",
    "version": 3
   },
   "file_extension": ".py",
   "mimetype": "text/x-python",
   "name": "python",
   "nbconvert_exporter": "python",
   "pygments_lexer": "ipython3",
   "version": "3.7.4"
  }
 },
 "nbformat": 4,
 "nbformat_minor": 4
}
