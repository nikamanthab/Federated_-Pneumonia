{
 "cells": [
  {
   "cell_type": "code",
   "execution_count": 43,
   "metadata": {},
   "outputs": [],
   "source": [
    "import pandas as pd\n",
    "import random"
   ]
  },
  {
   "cell_type": "code",
   "execution_count": 44,
   "metadata": {},
   "outputs": [
    {
     "name": "stdout",
     "output_type": "stream",
     "text": [
      "   Unnamed: 0                      image   label\n",
      "0           0  NORMAL2-IM-1020-0001.jpeg  NORMAL\n",
      "1           1  NORMAL2-IM-0843-0001.jpeg  NORMAL\n",
      "2           2  NORMAL2-IM-0866-0001.jpeg  NORMAL\n",
      "3           3          IM-0543-0001.jpeg  NORMAL\n",
      "4           4          IM-0131-0001.jpeg  NORMAL\n",
      "5216\n"
     ]
    }
   ],
   "source": [
    "train = pd.read_csv(\"../csv/original_train.csv\")\n",
    "print(train.head())\n",
    "print(len(train))"
   ]
  },
  {
   "cell_type": "code",
   "execution_count": 45,
   "metadata": {},
   "outputs": [],
   "source": [
    "train = train.drop(['Unnamed: 0'], axis=1)\n",
    "df = train"
   ]
  },
  {
   "cell_type": "code",
   "execution_count": 51,
   "metadata": {},
   "outputs": [
    {
     "data": {
      "text/plain": [
       "PNEUMONIA    3875\n",
       "NORMAL       1341\n",
       "Name: label, dtype: int64"
      ]
     },
     "execution_count": 51,
     "metadata": {},
     "output_type": "execute_result"
    }
   ],
   "source": [
    "df['label'].value_counts()"
   ]
  },
  {
   "cell_type": "code",
   "execution_count": 63,
   "metadata": {},
   "outputs": [
    {
     "name": "stdout",
     "output_type": "stream",
     "text": [
      "3875\n",
      "1341\n"
     ]
    }
   ],
   "source": [
    "print(len(pneumonia))\n",
    "print(len(normal))"
   ]
  },
  {
   "cell_type": "code",
   "execution_count": 87,
   "metadata": {},
   "outputs": [
    {
     "data": {
      "text/plain": [
       "268"
      ]
     },
     "execution_count": 87,
     "metadata": {},
     "output_type": "execute_result"
    }
   ],
   "source": [
    "1341*2//10"
   ]
  },
  {
   "cell_type": "code",
   "execution_count": 64,
   "metadata": {},
   "outputs": [],
   "source": [
    "df = df.sample(frac=1)"
   ]
  },
  {
   "cell_type": "code",
   "execution_count": 78,
   "metadata": {},
   "outputs": [],
   "source": [
    "new_df = pd.DataFrame()"
   ]
  },
  {
   "cell_type": "code",
   "execution_count": 79,
   "metadata": {},
   "outputs": [],
   "source": [
    "new_df = pd.concat([new_df, df[:10]])"
   ]
  },
  {
   "cell_type": "code",
   "execution_count": 80,
   "metadata": {},
   "outputs": [
    {
     "data": {
      "text/html": [
       "<div>\n",
       "<style scoped>\n",
       "    .dataframe tbody tr th:only-of-type {\n",
       "        vertical-align: middle;\n",
       "    }\n",
       "\n",
       "    .dataframe tbody tr th {\n",
       "        vertical-align: top;\n",
       "    }\n",
       "\n",
       "    .dataframe thead th {\n",
       "        text-align: right;\n",
       "    }\n",
       "</style>\n",
       "<table border=\"1\" class=\"dataframe\">\n",
       "  <thead>\n",
       "    <tr style=\"text-align: right;\">\n",
       "      <th></th>\n",
       "      <th>image</th>\n",
       "      <th>label</th>\n",
       "    </tr>\n",
       "  </thead>\n",
       "  <tbody>\n",
       "    <tr>\n",
       "      <th>3221</th>\n",
       "      <td>person1473_bacteria_3836.jpeg</td>\n",
       "      <td>PNEUMONIA</td>\n",
       "    </tr>\n",
       "    <tr>\n",
       "      <th>786</th>\n",
       "      <td>NORMAL2-IM-1059-0001.jpeg</td>\n",
       "      <td>NORMAL</td>\n",
       "    </tr>\n",
       "    <tr>\n",
       "      <th>1090</th>\n",
       "      <td>IM-0448-0001.jpeg</td>\n",
       "      <td>NORMAL</td>\n",
       "    </tr>\n",
       "    <tr>\n",
       "      <th>2684</th>\n",
       "      <td>person1217_bacteria_3169.jpeg</td>\n",
       "      <td>PNEUMONIA</td>\n",
       "    </tr>\n",
       "    <tr>\n",
       "      <th>677</th>\n",
       "      <td>IM-0488-0001.jpeg</td>\n",
       "      <td>NORMAL</td>\n",
       "    </tr>\n",
       "    <tr>\n",
       "      <th>2002</th>\n",
       "      <td>person1184_virus_2019.jpeg</td>\n",
       "      <td>PNEUMONIA</td>\n",
       "    </tr>\n",
       "    <tr>\n",
       "      <th>1094</th>\n",
       "      <td>NORMAL2-IM-1010-0001.jpeg</td>\n",
       "      <td>NORMAL</td>\n",
       "    </tr>\n",
       "    <tr>\n",
       "      <th>4842</th>\n",
       "      <td>person1509_virus_2621.jpeg</td>\n",
       "      <td>PNEUMONIA</td>\n",
       "    </tr>\n",
       "    <tr>\n",
       "      <th>1318</th>\n",
       "      <td>NORMAL2-IM-1274-0001.jpeg</td>\n",
       "      <td>NORMAL</td>\n",
       "    </tr>\n",
       "    <tr>\n",
       "      <th>4449</th>\n",
       "      <td>person23_bacteria_88.jpeg</td>\n",
       "      <td>PNEUMONIA</td>\n",
       "    </tr>\n",
       "  </tbody>\n",
       "</table>\n",
       "</div>"
      ],
      "text/plain": [
       "                              image      label\n",
       "3221  person1473_bacteria_3836.jpeg  PNEUMONIA\n",
       "786       NORMAL2-IM-1059-0001.jpeg     NORMAL\n",
       "1090              IM-0448-0001.jpeg     NORMAL\n",
       "2684  person1217_bacteria_3169.jpeg  PNEUMONIA\n",
       "677               IM-0488-0001.jpeg     NORMAL\n",
       "2002     person1184_virus_2019.jpeg  PNEUMONIA\n",
       "1094      NORMAL2-IM-1010-0001.jpeg     NORMAL\n",
       "4842     person1509_virus_2621.jpeg  PNEUMONIA\n",
       "1318      NORMAL2-IM-1274-0001.jpeg     NORMAL\n",
       "4449      person23_bacteria_88.jpeg  PNEUMONIA"
      ]
     },
     "execution_count": 80,
     "metadata": {},
     "output_type": "execute_result"
    }
   ],
   "source": [
    "new_df"
   ]
  },
  {
   "cell_type": "code",
   "execution_count": 84,
   "metadata": {},
   "outputs": [
    {
     "name": "stdout",
     "output_type": "stream",
     "text": [
      "0 10\n",
      "10 20\n",
      "20 30\n",
      "30 40\n",
      "40 50\n"
     ]
    }
   ],
   "source": [
    "each_len = 10\n",
    "for i in range(5):\n",
    "    print(i*each_len , (i+1)*each_len)"
   ]
  },
  {
   "cell_type": "code",
   "execution_count": null,
   "metadata": {},
   "outputs": [],
   "source": [
    "import os\n",
    "datasplit(num_nodes, input_path='../../csv/original_train.csv', output_dir='../../csv/splits/', mode=\"min\"):\n",
    "    df = pd.read_csv(input_path)\n",
    "    df = df.sample(frac=1)\n",
    "    pneumonia = df[df['label'] == 'PNEUMONIA']\n",
    "    normal = df[df['label'] == 'NORMAL']\n",
    "    \n",
    "    max_count = max(df['label'].value_counts()[1], df['label'].value_counts()[0])\n",
    "    min_count = min(df['label'].value_counts()[1], df['label'].value_counts()[0])\n",
    "    \n",
    "    each_len = min_count//num_nodes\n",
    "    \n",
    "    for i in range(num_nodes):\n",
    "        node_df = pd.DataFrame()\n",
    "        node_df = node_df.concat([node_df, pneumonia[i*each_len: (i+1)*each_len]])\n",
    "        node_df = node_df.concat([node_df, normal[i*each_len: (i+1)*each_len]])\n",
    "        node_df = node_df.sample(frac=1)\n",
    "        node_df.to_csv(os.path.join(output_dir, 'node_'+str(i)+'_train.csv'), index=False)"
   ]
  },
  {
   "cell_type": "code",
   "execution_count": 97,
   "metadata": {},
   "outputs": [
    {
     "data": {
      "text/plain": [
       "268"
      ]
     },
     "execution_count": 97,
     "metadata": {},
     "output_type": "execute_result"
    }
   ],
   "source": [
    "dd = pd.read_csv('../csv/splits/node_9_train.csv')\n",
    "len(dd)"
   ]
  },
  {
   "cell_type": "code",
   "execution_count": 197,
   "metadata": {},
   "outputs": [],
   "source": [
    "def datasplit(num_nodes,df):\n",
    "#     parser = argparse.ArgumentParser(description='Server module.')\n",
    "#     parser.add_argument('--num_nodes', type=int, default=5)\n",
    "#     parser.add_argument('--input_file', type=str)\n",
    "#     parser.add_argument('--output_file',type=str)\n",
    "#     args = parser.parse_args()\n",
    "    \n",
    "#     df=pd.read_csv(args['input_file'])\n",
    "    \n",
    "    \n",
    "    length=len(df)\n",
    "    numrows = int(length/num_nodes)\n",
    "    nodes = [[] for i in range(num_nodes) ]\n",
    "    count=0\n",
    "    while(count<num_nodes):\n",
    "        length = len(df)\n",
    "        indices = random.sample(range(0, length), numrows)\n",
    "        nodes[count] = df.loc[indices]\n",
    "        df = df.drop(indices)\n",
    "        df=df.reset_index(drop=True)\n",
    "        count+=1\n",
    "    \n",
    "    for i in range(num_nodes):            \n",
    "        temp=pd.DataFrame(nodes[i])\n",
    "        filename = \"node_\" + str(i) + \".csv\"\n",
    "#         path = \"../csv/split/\" + filename + \".csv\"\n",
    "#         path = args[\"output_file\"] + filename\n",
    "        temp.to_csv(filename)\n",
    "        \n",
    "    print(df)\n",
    "        "
   ]
  },
  {
   "cell_type": "code",
   "execution_count": 198,
   "metadata": {
    "scrolled": true
   },
   "outputs": [
    {
     "name": "stdout",
     "output_type": "stream",
     "text": [
      "   Unnamed: 0                          image      label\n",
      "0        4638      person901_virus_1555.jpeg  PNEUMONIA\n",
      "1        2028  person1469_bacteria_3827.jpeg  PNEUMONIA\n",
      "2        2046      person527_virus_1048.jpeg  PNEUMONIA\n",
      "3        1986   person525_bacteria_2216.jpeg  PNEUMONIA\n",
      "4        3773  person1171_bacteria_3118.jpeg  PNEUMONIA\n",
      "5        3653     person73_bacteria_357.jpeg  PNEUMONIA\n",
      "6         506              IM-0207-0001.jpeg     NORMAL\n",
      "7        4390   person441_bacteria_1916.jpeg  PNEUMONIA\n"
     ]
    }
   ],
   "source": [
    "datasplit(10,df)\n",
    "df1=pd.read_csv(\"node_0.CSV\")\n",
    "print(df1.head())\n",
    "print(df.head())"
   ]
  },
  {
   "cell_type": "code",
   "execution_count": 109,
   "metadata": {},
   "outputs": [],
   "source": [
    "node0 = pd.read_csv('../csv/splits/node_0_train.csv')\n",
    "node1 = pd.read_csv('../csv/splits/node_1_train.csv')\n",
    "node2 = pd.read_csv('../csv/splits/node_2_train.csv')\n",
    "node3 = pd.read_csv('../csv/splits/node_3_train.csv')\n",
    "node4 = pd.read_csv('../csv/splits/node_4_train.csv')\n",
    "node5 = pd.read_csv('../csv/splits/node_5_train.csv')\n",
    "node6 = pd.read_csv('../csv/splits/node_6_train.csv')\n",
    "node7 = pd.read_csv('../csv/splits/node_7_train.csv')\n",
    "node8 = pd.read_csv('../csv/splits/node_8_train.csv')\n",
    "node9 = pd.read_csv('../csv/splits/node_9_train.csv')\n",
    "nodes = [node0, node1, node2, node3, node4, node5, node6, node7, node8, node9]\n",
    "x = pd.concat(nodes)"
   ]
  },
  {
   "cell_type": "code",
   "execution_count": 110,
   "metadata": {},
   "outputs": [
    {
     "data": {
      "text/plain": [
       "2680"
      ]
     },
     "execution_count": 110,
     "metadata": {},
     "output_type": "execute_result"
    }
   ],
   "source": [
    "len(x['image'].unique())"
   ]
  },
  {
   "cell_type": "code",
   "execution_count": 119,
   "metadata": {},
   "outputs": [
    {
     "data": {
      "text/plain": [
       "NORMAL       134\n",
       "PNEUMONIA    134\n",
       "Name: label, dtype: int64"
      ]
     },
     "execution_count": 119,
     "metadata": {},
     "output_type": "execute_result"
    }
   ],
   "source": [
    "node8['label'].value_counts()"
   ]
  },
  {
   "cell_type": "code",
   "execution_count": 125,
   "metadata": {},
   "outputs": [],
   "source": [
    "test = pd.read_csv('../csv/splits/test/test.csv')"
   ]
  },
  {
   "cell_type": "code",
   "execution_count": 126,
   "metadata": {},
   "outputs": [
    {
     "data": {
      "text/plain": [
       "NORMAL       234\n",
       "PNEUMONIA    234\n",
       "Name: label, dtype: int64"
      ]
     },
     "execution_count": 126,
     "metadata": {},
     "output_type": "execute_result"
    }
   ],
   "source": [
    "test['label'].value_counts()"
   ]
  },
  {
   "cell_type": "code",
   "execution_count": 124,
   "metadata": {},
   "outputs": [
    {
     "data": {
      "text/plain": [
       "0.375"
      ]
     },
     "execution_count": 124,
     "metadata": {},
     "output_type": "execute_result"
    }
   ],
   "source": [
    "234/(234+390)"
   ]
  },
  {
   "cell_type": "code",
   "execution_count": 127,
   "metadata": {},
   "outputs": [],
   "source": [
    "train = pd.read_csv('../csv/original_train.csv')"
   ]
  },
  {
   "cell_type": "code",
   "execution_count": 131,
   "metadata": {},
   "outputs": [],
   "source": [
    "normal = train[train['label'] == 'NORMAL']\n",
    "pneumonia = train[train['label'] == 'PNEUMONIA']"
   ]
  },
  {
   "cell_type": "code",
   "execution_count": 133,
   "metadata": {},
   "outputs": [
    {
     "name": "stdout",
     "output_type": "stream",
     "text": [
      "1341\n",
      "3875\n"
     ]
    }
   ],
   "source": [
    "print(len(normal))\n",
    "print(len(pneumonia))"
   ]
  },
  {
   "cell_type": "code",
   "execution_count": 134,
   "metadata": {},
   "outputs": [],
   "source": [
    "pneumonia = pneumonia.sample(frac=1)\n",
    "balanced_train = pd.concat([pneumonia[:1341], normal])"
   ]
  },
  {
   "cell_type": "code",
   "execution_count": 141,
   "metadata": {},
   "outputs": [
    {
     "data": {
      "text/plain": [
       "PNEUMONIA    1341\n",
       "NORMAL       1341\n",
       "Name: label, dtype: int64"
      ]
     },
     "execution_count": 141,
     "metadata": {},
     "output_type": "execute_result"
    }
   ],
   "source": [
    "balanced_train['label'].value_counts()"
   ]
  },
  {
   "cell_type": "code",
   "execution_count": 140,
   "metadata": {},
   "outputs": [],
   "source": [
    "balanced_train.to_csv('tt.csv')"
   ]
  }
 ],
 "metadata": {
  "kernelspec": {
   "display_name": "Python 3",
   "language": "python",
   "name": "python3"
  },
  "language_info": {
   "codemirror_mode": {
    "name": "ipython",
    "version": 3
   },
   "file_extension": ".py",
   "mimetype": "text/x-python",
   "name": "python",
   "nbconvert_exporter": "python",
   "pygments_lexer": "ipython3",
   "version": "3.7.5"
  }
 },
 "nbformat": 4,
 "nbformat_minor": 4
}
