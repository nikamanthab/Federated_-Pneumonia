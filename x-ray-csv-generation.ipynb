{
 "cells": [
  {
   "cell_type": "code",
   "execution_count": 1,
   "metadata": {},
   "outputs": [],
   "source": [
    "import os\n",
    "import pandas as pd"
   ]
  },
  {
   "cell_type": "code",
   "execution_count": 3,
   "metadata": {},
   "outputs": [],
   "source": [
    "image = []\n",
    "label = []\n",
    "for i in os.listdir('./x-ray/train/NORMAL/'):\n",
    "    image.append(i)\n",
    "    label.append('NORMAL')\n",
    "for i in os.listdir('./x-ray/train/PNEUMONIA/'):\n",
    "    image.append(i)\n",
    "    label.append('PNEUMONIA')\n",
    "df = pd.DataFrame(columns=['image', 'label'])\n",
    "df['image'] = image\n",
    "df['label'] = label\n",
    "df.to_csv('./csv/train.csv')"
   ]
  },
  {
   "cell_type": "code",
   "execution_count": 4,
   "metadata": {},
   "outputs": [],
   "source": [
    "image = []\n",
    "label = []\n",
    "for i in os.listdir('./x-ray/test/NORMAL/'):\n",
    "    image.append(i)\n",
    "    label.append('NORMAL')\n",
    "for i in os.listdir('./x-ray/test/PNEUMONIA/'):\n",
    "    image.append(i)\n",
    "    label.append('PNEUMONIA')\n",
    "df = pd.DataFrame(columns=['image', 'label'])\n",
    "df['image'] = image\n",
    "df['label'] = label\n",
    "df.to_csv('./csv/test.csv')"
   ]
  },
  {
   "cell_type": "code",
   "execution_count": 5,
   "metadata": {},
   "outputs": [],
   "source": [
    "image = []\n",
    "label = []\n",
    "for i in os.listdir('./x-ray/val/NORMAL/'):\n",
    "    image.append(i)\n",
    "    label.append('NORMAL')\n",
    "for i in os.listdir('./x-ray/val/PNEUMONIA/'):\n",
    "    image.append(i)\n",
    "    label.append('PNEUMONIA')\n",
    "df = pd.DataFrame(columns=['image', 'label'])\n",
    "df['image'] = image\n",
    "df['label'] = label\n",
    "df.to_csv('./csv/val.csv')"
   ]
  },
  {
   "cell_type": "code",
   "execution_count": null,
   "metadata": {},
   "outputs": [],
   "source": []
  }
 ],
 "metadata": {
  "kernelspec": {
   "display_name": "Python 3",
   "language": "python",
   "name": "python3"
  },
  "language_info": {
   "codemirror_mode": {
    "name": "ipython",
    "version": 3
   },
   "file_extension": ".py",
   "mimetype": "text/x-python",
   "name": "python",
   "nbconvert_exporter": "python",
   "pygments_lexer": "ipython3",
   "version": "3.7.7"
  }
 },
 "nbformat": 4,
 "nbformat_minor": 4
}
